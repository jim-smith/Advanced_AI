{
 "cells": [
  {
   "cell_type": "markdown",
   "id": "e9875854-d34c-47ae-9c54-f8b6b3355fbc",
   "metadata": {},
   "source": [
    "# Advanced Artificial Intelligence Module schedule 2023\n",
    "Note that content may change in response to the student cohort's interests and progress."
   ]
  },
  {
   "cell_type": "markdown",
   "id": "0f28ccb2-36d2-4aab-a894-174e5d688533",
   "metadata": {
    "slideshow": {
     "slide_type": "slide"
    },
    "tags": []
   },
   "source": [
    "## Week 1 (Thurs 2/2/23): Introduction to Module,  refresher \n",
    "\n",
    "### Presentation:\n",
    "- how will module be taught and assessed\n",
    "- schedule\n",
    "- expectations\n",
    "- resources"
   ]
  },
  {
   "cell_type": "markdown",
   "id": "c901443d-f7cb-423f-88a5-c7b7d42cc6a3",
   "metadata": {
    "slideshow": {
     "slide_type": "slide"
    },
    "tags": []
   },
   "source": [
    "### Practical Activity: Refreshing the supervised machine learning workflow\n",
    "Individual work comparing different ML algorithms for a given dataset"
   ]
  },
  {
   "cell_type": "markdown",
   "id": "71d79b86-019b-4ebc-a10f-0584a6715a52",
   "metadata": {
    "slideshow": {
     "slide_type": "slide"
    },
    "tags": []
   },
   "source": [
    "### Intended Learning Outcomes\n",
    "1. Introduction ot Module\n",
    "2. Refresher on:\n",
    "- the basic supervised Machine Learning Workflow\n",
    "- handling missing data\n",
    "- handling unbalanced datasets\n",
    "- estimating of model accuracy\n",
    "- making principled comparisons between trained models"
   ]
  },
  {
   "cell_type": "markdown",
   "id": "bc1deb0a-779d-43ca-b5bc-3fcd943f5b7e",
   "metadata": {
    "slideshow": {
     "slide_type": "slide"
    },
    "tags": []
   },
   "source": [
    "### Self-Directed Study:\n",
    "1. Complete and prepare simple report for next week and post to blackboard wiki\n",
    "2.  Read a book chapter/ section on cnn's \n",
    "- could be, for example,[this ten page overview from arXiv]( https://arxiv.org/pdf/1511.08458.pdf) \n",
    "- or something else you find on the web\n",
    "- videos are fine, it's always good to  get practice in judging what is trustworthy.\n",
    "3. Read [this blog](https://jmyao17.github.io/Statistics/Nonparametric_Statistical_Significance_Tests.html) about how to do Non-Parametric Null Hypothesis Significancce Tests in python."
   ]
  },
  {
   "cell_type": "markdown",
   "id": "e36cab94-cbe4-4e1d-b67a-225735e842f5",
   "metadata": {
    "slideshow": {
     "slide_type": "slide"
    },
    "tags": []
   },
   "source": [
    "## Week 2 (Thurs 9/2/23): Convolutional Neural networks\n",
    "\n",
    "### Presentation: What is convolution\n",
    "- What is convolution:  \n",
    "  basic idea;     \n",
    "  historical & mathematical background\n",
    "- Comparing Convolution Networks with Fully Connected Networks:"
   ]
  },
  {
   "cell_type": "markdown",
   "id": "ed6b938c-5b0e-4528-8164-02bd8fb11d01",
   "metadata": {
    "slideshow": {
     "slide_type": "slide"
    },
    "tags": []
   },
   "source": [
    "### Practical activity: Comparing online resources for hands-on experience of building CNNs\n",
    "Working in small groups to follow  tutorials from different sources, and compare  their value to you as learners."
   ]
  },
  {
   "cell_type": "markdown",
   "id": "363e5b7b-84a2-47be-8cab-dd06a52eafa1",
   "metadata": {
    "slideshow": {
     "slide_type": "slide"
    },
    "tags": []
   },
   "source": [
    "### Intended Learning Outcomes\n",
    "1. Understanding of\n",
    "- The basic concept of convolution in signal processing and machine learning\n",
    "- Convolutional Neural Networks for image classification\n",
    "2. Experience of using materials such as tutorials from various common sources and adapting them to new purposes. "
   ]
  },
  {
   "cell_type": "markdown",
   "id": "c2e3cb35-7080-4368-9914-29a2962ae127",
   "metadata": {
    "slideshow": {
     "slide_type": "slide"
    },
    "tags": []
   },
   "source": [
    "### Self-directed study: \n",
    "- How do you decide when to stop training a CNN and how does keras support this?\n",
    "- Read chapter 14 of  [Aurélien Géron (2022) Hands-On Machine Learning with Scikit-Learn, Keras, and TensorFlow, 3rd Edition.](https://uwe.primo.exlibrisgroup.com/view/action/uresolver.do?operation=resolveService&package_service_id=1544167050007511&institutionId=7511&customerId=7510&VE=true)  \n",
    "  Available free to read online via the reading list or  from library if this link doesn't work."
   ]
  },
  {
   "cell_type": "markdown",
   "id": "c6bd3c31-148e-4791-a798-398f0dc058c5",
   "metadata": {
    "slideshow": {
     "slide_type": "slide"
    },
    "tags": []
   },
   "source": [
    "## Week 3 (Thurs 16/2/23): Convnets and effects of uncertainty.\n",
    "\n",
    "### Presentation: Data augmentation,\n",
    "- what is it, when *could* and *should* you think about using it?\n",
    "- what does keras support it?\n",
    "- how do you decide what are valid transformations?\n",
    "- what could you do yourself?"
   ]
  },
  {
   "cell_type": "markdown",
   "id": "81fe8eab-ccde-4a14-920d-a3e7e06cd53b",
   "metadata": {
    "slideshow": {
     "slide_type": "slide"
    },
    "tags": []
   },
   "source": [
    "### Practical Activity: Using data augmentation in face recognition\n",
    "Designing and conducting experiments to test the impact of different ways of changing images.  \n",
    "Class discussion of how this could be used to address ethical and practical concerns of maschine learning.\n"
   ]
  },
  {
   "cell_type": "markdown",
   "id": "45cfdcdf-56fe-4e44-8acc-be77239c82be",
   "metadata": {},
   "source": [
    "### Intended Learning Outcomes\n",
    "1. Understanding of the role that noise inevitably plays in data capture\n",
    "2. Experience of using different data augmentation packages within Keras\n",
    "3. Refresher on good practice for comparing experiments/ hyper-parameter combinbations."
   ]
  },
  {
   "cell_type": "markdown",
   "id": "21ed7b15-d894-4357-9596-ec2bc53becc4",
   "metadata": {
    "slideshow": {
     "slide_type": "slide"
    },
    "tags": []
   },
   "source": [
    "### Self directed study\n",
    "1. Explore the following sites to see whether you think are   more glossily presented, or fundamentally more thorough\"\n",
    "  - [google's take on fairness as part of Responsible AI](https://ai.google/responsibilities/responsible-ai-practices/?category=fairness) and explore some of the resources they provide. Do they seem than:\n",
    "  - [Apple;s overview](https://machinelearning.apple.com/research?page=1&domain=Fairness) or the overview present\n",
    "  - [Facebook's overview](https://ai.facebook.com/blog/how-were-using-fairness-flow-to-help-build-ai-that-works-better-for-everyone/)\n",
    "  - [open ai's work on images](https://openai.com/blog/reducing-bias-and-improving-safety-in-dall-e-2/)  \n",
    "    they didn't seem to have a single page that covered langauge and vision models.  \n",
    "\n",
    "2.  In group prepare 5 minute talk on an architecture for pre-trained images e.g. resnet, vgg, inception, mobilenet ...\n",
    "focussing on what is the new idea e.g. modularisation?"
   ]
  },
  {
   "cell_type": "markdown",
   "id": "e8753b3d-1add-40ee-a809-79042ca4690a",
   "metadata": {
    "slideshow": {
     "slide_type": "slide"
    },
    "tags": []
   },
   "source": [
    "## Week 4 (Thurs 23/2/23): Transfer Learning\n",
    "\n",
    "### Presentation: what is tranfer learning and why would we want to do it:\n",
    "- The general idea: features useful in more than one context, so:\n",
    "  - train on successively harder problems (denoising)\n",
    "  - train on related problems where more data is available\n",
    "- training directly can take masses of computational effort: resuse this\n",
    "  - large pretrained language models: BERT, Lambda, gpt3 \n",
    "  - large vision models:   MobileNet, coco etc for visual problems"
   ]
  },
  {
   "cell_type": "markdown",
   "id": "cd42f40e-2078-40cd-aedd-192d06658b11",
   "metadata": {
    "slideshow": {
     "slide_type": "slide"
    },
    "tags": []
   },
   "source": [
    "### Practical activity\n",
    "1. Download this [good tensorflow tutorial](https://www.tensorflow.org/tutorials/images/transfer_learning) with lots of examples of how to do the 'plumbing' using tensorflow built-in functions here: \n",
    " \n",
    "2.  Activity: read through and run that tutorial. In particular note how:\n",
    "  - there is a neat way of creating a test and validation set\n",
    "  - when they do the second step of fine-tuning they restart training from epoch 10 not zero (useful syntax)\n",
    "3. Then use the ideas from that notebook to take the CNN that you trained on the CIFAR data set in week 2,\n",
    "- freeze everything below the flatten() layer\n",
    "- and then add a new head and train it to classify genders in the the age-ethnicity-gender dataset. \n",
    "- Compare how long that takes to learn, and how effectively it does so,  \n",
    "  with training a CNN with the same configuration from scratch.\n",
    "4. Repeat but train on MNIST then test on [Optical Character Recognition dataset](https://www.kaggle.com/datasets/preatcher/standard-ocr-dataset)"
   ]
  },
  {
   "cell_type": "markdown",
   "id": "bac18b5b-e5db-48a8-bd67-007247150ebf",
   "metadata": {},
   "source": [
    "### Intended Learning Outcomes\n",
    "1. Understanding of the basic concept of transfer learning and how it is applied in practice."
   ]
  },
  {
   "cell_type": "markdown",
   "id": "700dadcd-2d6a-49da-94c2-c8590b66df71",
   "metadata": {
    "slideshow": {
     "slide_type": "slide"
    },
    "tags": []
   },
   "source": [
    "### Self-directed Study:\n",
    "Read [article on curriculum learning](https://ieeexplore-ieee-org.ezproxy.uwe.ac.uk/document/9392296) (or get link from reading list) in reinforcement learning and be prepared to discuss whether it is a form of transfer learning"
   ]
  },
  {
   "cell_type": "markdown",
   "id": "36864eb5-bfd2-436b-b8bc-71c8c38b36f7",
   "metadata": {
    "slideshow": {
     "slide_type": "slide"
    },
    "tags": []
   },
   "source": [
    "## Week 5 (Thurs 2/3/23): Recurrent Neural networks\n",
    "\n",
    "\n",
    "### Activity: Class presentations on different CNN architectures\n",
    "- aim is to get peer feedback on presentation skills"
   ]
  },
  {
   "cell_type": "markdown",
   "id": "c55f2a1d-04c5-4b14-a796-b3c6fa865686",
   "metadata": {
    "slideshow": {
     "slide_type": "slide"
    },
    "tags": []
   },
   "source": [
    "### Presentation: \n",
    "- time series problems \n",
    "- statistical methods: ARIMA family of algorithms\n",
    "- Recurrent Architectures e.g. LSTM\n",
    " "
   ]
  },
  {
   "cell_type": "markdown",
   "id": "515d7b11-3cc3-4f4d-b6a9-385089c8be59",
   "metadata": {
    "slideshow": {
     "slide_type": "slide"
    },
    "tags": []
   },
   "source": [
    "### Practical activities\n",
    " - build LSTM for univariate and multivariate time series data set: \n",
    " - regression e.g. e.g. https://archive.ics.uci.edu/ml/datasets/Air+Quality or https://www.kaggle.com/datasets/sumanthvrao/daily-climate-time-series-data\n",
    " - compare MLP with time window, 1-D CNN, LSTM\n",
    "\n",
    " "
   ]
  },
  {
   "cell_type": "markdown",
   "id": "1300ad85-b11f-4b2a-9ed9-0bcaad27c953",
   "metadata": {},
   "source": [
    "### Intended Learning Outcomes\n",
    "1. Feedback on presentation skills\n",
    "2. Understanding of:\n",
    "  - Time series problems (classification and regression)\n",
    "  - Recurrent Neural Networks"
   ]
  },
  {
   "cell_type": "markdown",
   "id": "b4ea5ee8-dbd8-4080-8589-5df70f98d2a7",
   "metadata": {
    "slideshow": {
     "slide_type": "slide"
    },
    "tags": []
   },
   "source": [
    " ## Week 6 (Thurs 9/3/23): Natural Language Processing\n",
    "   \n",
    " ### Presentation:\n",
    " - \n",
    " "
   ]
  },
  {
   "cell_type": "markdown",
   "id": "4a9abf38-3ed0-49c6-b89c-838634197a93",
   "metadata": {
    "slideshow": {
     "slide_type": "slide"
    },
    "tags": []
   },
   "source": [
    " ## Week 7 (Thurs 16/3/23): Large Language Models\n",
    " "
   ]
  },
  {
   "cell_type": "markdown",
   "id": "d9ec51d2-9669-4274-aeeb-909127cbb6c8",
   "metadata": {
    "slideshow": {
     "slide_type": "slide"
    },
    "tags": []
   },
   "source": [
    " # Week 8 (Thurs 23/3/23): Reinforcement Learning\n",
    " \n",
    " ## Guest Lecture: Mihai Ancar \n",
    " ## Practical Activities: Coursework"
   ]
  },
  {
   "cell_type": "markdown",
   "id": "9ec80f6a-4637-41c7-ba9b-1408a93fe36c",
   "metadata": {
    "slideshow": {
     "slide_type": "slide"
    },
    "tags": []
   },
   "source": [
    " ## Week 9 (Thurs 30/3/23): Advances in optimisation metaheuristics \n",
    " \n",
    " ## Presentation\n",
    " - noise\n",
    " - multi-objective optimisation\n",
    " "
   ]
  },
  {
   "cell_type": "markdown",
   "id": "50160965-38ff-4529-a63e-729583071894",
   "metadata": {
    "slideshow": {
     "slide_type": "slide"
    },
    "tags": []
   },
   "source": [
    " \n",
    " ## Week 10 (Thursday 20/4/23): Hybrids of different Optimisation/ ML approaches\n",
    " \n",
    " - Guest lecture from Larry on Surrogate assisted optimisation"
   ]
  },
  {
   "cell_type": "markdown",
   "id": "29bc6219-06b5-484c-ac05-5aeced2c44ea",
   "metadata": {
    "slideshow": {
     "slide_type": "slide"
    },
    "tags": []
   },
   "source": [
    " \n",
    " # Week 11 (Thursday 27/4/23): Active Learning\n",
    " \n",
    " "
   ]
  },
  {
   "cell_type": "markdown",
   "id": "1febdc1f-ed93-4eca-b1a4-7c57ecc9d233",
   "metadata": {},
   "source": [
    "# Week 12: Groupwork Presentations\n",
    "Thursday 4/5/23 "
   ]
  },
  {
   "cell_type": "code",
   "execution_count": null,
   "id": "85fa032d-b78f-4993-ad55-19e1cdf31c2e",
   "metadata": {},
   "outputs": [],
   "source": []
  }
 ],
 "metadata": {
  "kernelspec": {
   "display_name": "py10",
   "language": "python",
   "name": "py10"
  },
  "language_info": {
   "codemirror_mode": {
    "name": "ipython",
    "version": 3
   },
   "file_extension": ".py",
   "mimetype": "text/x-python",
   "name": "python",
   "nbconvert_exporter": "python",
   "pygments_lexer": "ipython3",
   "version": "3.10.6"
  }
 },
 "nbformat": 4,
 "nbformat_minor": 5
}
