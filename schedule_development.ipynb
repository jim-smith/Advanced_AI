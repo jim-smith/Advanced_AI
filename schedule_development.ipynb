{
 "cells": [
  {
   "cell_type": "markdown",
   "id": "e9875854-d34c-47ae-9c54-f8b6b3355fbc",
   "metadata": {
    "slideshow": {
     "slide_type": "slide"
    },
    "tags": []
   },
   "source": [
    "# Advanced Artificial Intelligence Module schedule 2023\n",
    "Note that content may change in response to the student cohort's interests and progress."
   ]
  },
  {
   "cell_type": "markdown",
   "id": "0f28ccb2-36d2-4aab-a894-174e5d688533",
   "metadata": {
    "slideshow": {
     "slide_type": "slide"
    },
    "tags": []
   },
   "source": [
    "## Week 1 (Thurs 2/2/23): Introduction to Module,  refresher \n",
    "\n",
    "### Presentation:\n",
    "- how will module be taught and assessed\n",
    "- schedule\n",
    "- expectations\n",
    "- resources"
   ]
  },
  {
   "cell_type": "markdown",
   "id": "c901443d-f7cb-423f-88a5-c7b7d42cc6a3",
   "metadata": {
    "slideshow": {
     "slide_type": "slide"
    },
    "tags": []
   },
   "source": [
    "### W1 Practical Activity: \n",
    "- Refreshing the supervised machine learning workflow\n",
    "- Individual work comparing different ML algorithms for a given dataset\n",
    "- followed by class discussion of what a report should look like"
   ]
  },
  {
   "cell_type": "markdown",
   "id": "71d79b86-019b-4ebc-a10f-0584a6715a52",
   "metadata": {
    "slideshow": {
     "slide_type": "slide"
    },
    "tags": []
   },
   "source": [
    "### W1 Intended Learning Outcomes\n",
    "1. Introduction to Module\n",
    "2. Refresher on:\n",
    "- the basic supervised Machine Learning Workflow\n",
    "- handling missing data\n",
    "- handling unbalanced datasets\n",
    "- estimating of model accuracy\n",
    "- making principled comparisons between trained models"
   ]
  },
  {
   "cell_type": "markdown",
   "id": "bc1deb0a-779d-43ca-b5bc-3fcd943f5b7e",
   "metadata": {
    "slideshow": {
     "slide_type": "slide"
    },
    "tags": []
   },
   "source": [
    "### W1 Self-Directed Study:\n",
    "1. Complete and prepare simple report for next week and post to blackboard wiki\n",
    "2.  Read a book chapter/ section on cnn's \n",
    "- could be, for example,[this ten page overview from arXiv]( https://arxiv.org/pdf/1511.08458.pdf) \n",
    "- or something else you find on the web\n",
    "- videos are fine, it's always good to  get practice in judging what is trustworthy.\n",
    "3. Read [this blog](https://jmyao17.github.io/Statistics/Nonparametric_Statistical_Significance_Tests.html) about how to do Non-Parametric Null Hypothesis Significancce Tests in python."
   ]
  },
  {
   "cell_type": "markdown",
   "id": "e36cab94-cbe4-4e1d-b67a-225735e842f5",
   "metadata": {
    "slideshow": {
     "slide_type": "slide"
    },
    "tags": []
   },
   "source": [
    "## Week 2 (Thurs 9/2/23): Convolutional Neural networks\n",
    "\n",
    "### Presentation: What is convolution\n",
    "- What is convolution:  the basic idea, historical & mathematical background\n",
    "- An example of interactive AI: evolving filter networks for image segmentatation\n",
    "- Comparing Convolution Networks with Fully Connected Networks for end-to-end learning."
   ]
  },
  {
   "cell_type": "markdown",
   "id": "ed6b938c-5b0e-4528-8164-02bd8fb11d01",
   "metadata": {
    "slideshow": {
     "slide_type": "slide"
    },
    "tags": []
   },
   "source": [
    "### W2 Practical activity: \n",
    "- Comparing online resources for hands-on experience of building CNNs\n",
    "- Working in small groups to follow  tutorials from different sources, and compare  their value to you as learners."
   ]
  },
  {
   "cell_type": "markdown",
   "id": "363e5b7b-84a2-47be-8cab-dd06a52eafa1",
   "metadata": {
    "slideshow": {
     "slide_type": "slide"
    },
    "tags": []
   },
   "source": [
    "### W2 Intended Learning Outcomes\n",
    "1. Understanding of\n",
    "- The basic concept of convolution in signal processing and machine learning\n",
    "- Convolutional Neural Networks for image classification\n",
    "2. Experience of using materials such as tutorials from various common sources and adapting them to new purposes. "
   ]
  },
  {
   "cell_type": "markdown",
   "id": "c2e3cb35-7080-4368-9914-29a2962ae127",
   "metadata": {
    "slideshow": {
     "slide_type": "slide"
    },
    "tags": []
   },
   "source": [
    "### W2 Self-directed study: \n",
    "- How do you decide when to stop training a CNN and how does keras support this?\n",
    "- Read chapter 14 of  [Aurélien Géron (2022) Hands-On Machine Learning with Scikit-Learn, Keras, and TensorFlow, 3rd Edition.](https://uwe.primo.exlibrisgroup.com/view/action/uresolver.do?operation=resolveService&package_service_id=1544167050007511&institutionId=7511&customerId=7510&VE=true)  \n",
    "  Available free to read online via the reading list or  from library if this link doesn't work."
   ]
  },
  {
   "cell_type": "markdown",
   "id": "c6bd3c31-148e-4791-a798-398f0dc058c5",
   "metadata": {
    "slideshow": {
     "slide_type": "slide"
    },
    "tags": []
   },
   "source": [
    "## Week 3 (Thurs 16/2/23): Convnets and effects of uncertainty.\n",
    "\n",
    "### Presentation: Data augmentation,\n",
    "- what is it, when *could* and *should* you think about using it?\n",
    "- what does keras support it?\n",
    "- how do you decide what are valid transformations?\n",
    "- what could you do yourself?"
   ]
  },
  {
   "cell_type": "markdown",
   "id": "81fe8eab-ccde-4a14-920d-a3e7e06cd53b",
   "metadata": {
    "slideshow": {
     "slide_type": "slide"
    },
    "tags": []
   },
   "source": [
    "### W3 Practical Activity: Using data augmentation in face recognition\n",
    "Designing and conducting experiments to test the impact of different ways of changing images.  \n",
    "Class discussion of how this could be used to address ethical and practical concerns of machine learning.\n"
   ]
  },
  {
   "cell_type": "markdown",
   "id": "45cfdcdf-56fe-4e44-8acc-be77239c82be",
   "metadata": {
    "slideshow": {
     "slide_type": "slide"
    },
    "tags": []
   },
   "source": [
    "### W3 Intended Learning Outcomes\n",
    "1. Understanding of the role that noise inevitably plays in data capture\n",
    "2. Experience of some of the *'tricks of the trade'* for improving deep neural network training.\n",
    "3. Experience of using different data augmentation packages within Keras\n",
    "4. Refresher on good practice for comparing experiments/ hyper-parameter combinbations."
   ]
  },
  {
   "cell_type": "markdown",
   "id": "21ed7b15-d894-4357-9596-ec2bc53becc4",
   "metadata": {
    "slideshow": {
     "slide_type": "slide"
    },
    "tags": []
   },
   "source": [
    "### W3 Self directed study\n",
    "1. Read the blog posts linked in the practical notebook about batch normalisation and dropout.\n",
    "\n",
    "2. Explore the following sites to see whether you think are   more glossily presented, or fundamentally more thorough\"\n",
    "  - [google's take on fairness as part of Responsible AI](https://ai.google/responsibilities/responsible-ai-practices/?category=fairness) and explore some of the resources they provide. Do they seem than:\n",
    "  - [Apple's overview](https://machinelearning.apple.com/research?page=1&domain=Fairness) or the overview present\n",
    "  - [Facebook's overview](https://ai.facebook.com/blog/how-were-using-fairness-flow-to-help-build-ai-that-works-better-for-everyone/)\n",
    "  - [open ai's work on images](https://openai.com/blog/reducing-bias-and-improving-safety-in-dall-e-2/)  \n",
    "    they didn't seem to have a single page that covered langauge and vision models.  \n",
    "\n",
    "3.  In group prepare 5 minute talk on an architecture for pre-trained images e.g. resnet, vgg, inception, mobilenet ...\n",
    "focussing on what is the new idea e.g. modularisation?"
   ]
  },
  {
   "cell_type": "markdown",
   "id": "e8753b3d-1add-40ee-a809-79042ca4690a",
   "metadata": {
    "slideshow": {
     "slide_type": "slide"
    },
    "tags": []
   },
   "source": [
    "## Week 4 (Thurs 23/2/23): Transfer Learning\n",
    "\n",
    "### Class Discussion: Corporations and Responsible AI\n",
    "- feedback from the reading/research I asked to do last week from last week \n",
    "### Quick Group Presentations: One key feature of advanced CNN architectures\n",
    "- groups to give quick presentation about key aspects of one architecture\n",
    "- then class discussion of common ideas\n",
    "\n",
    "### Presentation: what is transfer learning and why would we want to do it:\n",
    "- The general idea: features useful in more than one context, so:\n",
    "  - train on successively harder problems (denoising)\n",
    "  - train on related problems where more data is available\n",
    "- training directly can take masses of computational effort: resuse this\n",
    "  - large pretrained language models: BERT, Lambda, gpt3 \n",
    "  - large vision models:   MobileNet, coco etc for visual problems"
   ]
  },
  {
   "cell_type": "markdown",
   "id": "cd42f40e-2078-40cd-aedd-192d06658b11",
   "metadata": {
    "slideshow": {
     "slide_type": "slide"
    },
    "tags": []
   },
   "source": [
    "### W4 Practical activity\n",
    "- Starting with this [good tensorflow tutorial](https://www.tensorflow.org/tutorials/images/transfer_learning) \n",
    "- and then building on the ideas and techniques to conduct a range of experiments using transfer learning to repurpose CNNs built in previous weeks, looking at the effects of different mechanisms "
   ]
  },
  {
   "cell_type": "markdown",
   "id": "bac18b5b-e5db-48a8-bd67-007247150ebf",
   "metadata": {
    "slideshow": {
     "slide_type": "slide"
    },
    "tags": []
   },
   "source": [
    "### W4 Intended Learning Outcomes\n",
    "1. Understanding of the basic concept of transfer learning and how it is applied in practice."
   ]
  },
  {
   "cell_type": "markdown",
   "id": "700dadcd-2d6a-49da-94c2-c8590b66df71",
   "metadata": {
    "slideshow": {
     "slide_type": "slide"
    },
    "tags": []
   },
   "source": [
    "### W4 Self-directed Study:\n",
    "Read [article on curriculum learning](https://ieeexplore-ieee-org.ezproxy.uwe.ac.uk/document/9392296) (or get link from reading list) in reinforcement learning and be prepared to discuss whether it is a form of transfer learning"
   ]
  },
  {
   "cell_type": "markdown",
   "id": "36864eb5-bfd2-436b-b8bc-71c8c38b36f7",
   "metadata": {
    "slideshow": {
     "slide_type": "slide"
    },
    "tags": []
   },
   "source": [
    "## Week 5 (Thurs 2/3/23): Recurrent Neural networks\n",
    "\n",
    "### Presentation: \n",
    "- time series problems \n",
    "- statistical methods: ARIMA family of algorithms\n",
    "- Recurrent Architectures e.g. LSTM\n"
   ]
  },
  {
   "cell_type": "markdown",
   "id": "515d7b11-3cc3-4f4d-b6a9-385089c8be59",
   "metadata": {
    "slideshow": {
     "slide_type": "slide"
    },
    "tags": []
   },
   "source": [
    "### W5 Practical activities\n",
    "- Class presentations on different CNN architectures  \n",
    "   - aim is to get peer feedback on presentation skills\n",
    "- build LSTM for univariate and multivariate time series data set: \n",
    "- regression e.g. e.g. https://archive.ics.uci.edu/ml/datasets/Air+Quality or https://www.kaggle.com/datasets/sumanthvrao/daily-climate-time-series-data\n",
    "- comparison of architectures: MLP with time window vs.  1-D CNN vs.  LSTM\n",
    "\n",
    " "
   ]
  },
  {
   "cell_type": "markdown",
   "id": "1300ad85-b11f-4b2a-9ed9-0bcaad27c953",
   "metadata": {
    "slideshow": {
     "slide_type": "slide"
    },
    "tags": []
   },
   "source": [
    "### W5 Intended Learning Outcomes\n",
    "1. Feedback on presentation skills\n",
    "2. Understanding of:\n",
    "  - Time series problems (classification and regression)\n",
    "  - Recurrent Neural Networks"
   ]
  },
  {
   "cell_type": "markdown",
   "id": "80cb2ed4-fd50-499b-bb49-e4123d22be0b",
   "metadata": {
    "jp-MarkdownHeadingCollapsed": true,
    "slideshow": {
     "slide_type": "slide"
    },
    "tags": []
   },
   "source": [
    "### W5 Self-directed study:\n",
    "1. Read this article [G.So: Should We Abandon LSTM for CNN?](https://medium.com/ai-ml-at-symantec/should-we-abandon-lstm-for-cnn-83accaeb93d6)  as quite nice take on how to respond to reported findings in an open-minded way.   \n",
    "  Particularly relevant since the pace of *\"sensational new findings...\"* apearing in papers/blogs seems to be increasing.\n",
    "2. Group exercise tagging movie reviews"
   ]
  },
  {
   "cell_type": "markdown",
   "id": "94a079e0-3437-4883-9286-cb3360c7cbd9",
   "metadata": {
    "slideshow": {
     "slide_type": "slide"
    },
    "tags": []
   },
   "source": [
    " ## Week 6 (Thurs 9/3/23): Natural Language Processing (NLP)\n",
    "   \n",
    " ### Presentation:\n",
    " - elements of NLP: tokenisation, parts of speechg tagginbg, named entity and intent recognition.\n",
    " - rule-based systems, Bayesian approaches\n",
    " - word/sentence embeddings and semantic mapping.\n",
    " "
   ]
  },
  {
   "cell_type": "markdown",
   "id": "c52f9213-66b0-4e8f-b36e-659f67026807",
   "metadata": {
    "slideshow": {
     "slide_type": "slide"
    },
    "tags": []
   },
   "source": [
    "### W6 Practical activity and self-directed study\n",
    "- sentiment classification on IMDB dataset\n",
    "- Over weeks 6,7 and 8 you should aim to work through the first 5 workbooks from the module ML for Language and Vision"
   ]
  },
  {
   "cell_type": "markdown",
   "id": "af5e5430-d59b-457a-8224-828867eb1bac",
   "metadata": {},
   "source": [
    "### W6 Learning Outcomes\n",
    "1. Understanding of the:\n",
    "- main statistical approaches to natural language processing, \n",
    "- role of different forms of pre-processing used for text\n",
    "2. Hands on experience of text pre-processing using contemporary toolkits such as nltk and spacey"
   ]
  },
  {
   "cell_type": "markdown",
   "id": "95cc6961-d20d-4aa4-8da4-4f0242069008",
   "metadata": {
    "slideshow": {
     "slide_type": "slide"
    },
    "tags": []
   },
   "source": [
    " ## Week 7 (Thurs 16/3/23): Neural approaches to NLP\n",
    " \n",
    " ### Presentation:\n",
    " - recurrent aproaches for sequence-to-sequence modelling\n",
    " - encoder-decoders & other architectures.\n",
    " - large language models and transfer learning\n",
    " "
   ]
  },
  {
   "cell_type": "markdown",
   "id": "ab741ebf-d27d-4a10-aeeb-3a5d2fb21ef0",
   "metadata": {
    "slideshow": {
     "slide_type": "slide"
    },
    "tags": []
   },
   "source": [
    " ### W7 Practical Activities and Self-directed study\n",
    " - continuing series of workbooks started in week 6\n",
    " - working on group project\n",
    " \n",
    " ### W7 Intended Learning Outcomes\n",
    " 1. Understanding of contemporary approaches NLP and language modelling.\n",
    " "
   ]
  },
  {
   "cell_type": "markdown",
   "id": "f0c9f130-d718-4ea1-9694-bafaf549f140",
   "metadata": {
    "slideshow": {
     "slide_type": "slide"
    },
    "tags": []
   },
   "source": [
    " ## Week 8 (Thurs 23/3/23): Reinforcement Learning\n",
    " \n",
    " ### Presentation: Guest Lecture by Mihai Ancar \n",
    " "
   ]
  },
  {
   "cell_type": "markdown",
   "id": "362b7e8d-4413-47c2-87b8-af26852a884d",
   "metadata": {
    "slideshow": {
     "slide_type": "slide"
    },
    "tags": []
   },
   "source": [
    " ### W8 Practical Activities and Self-Directed study: \n",
    " - complete the language modelling tasks started in week 6.\n",
    " - working on coursework\n",
    " - an activity using using [openai ml explainer](https://beta.openai.com/playground/p/default-ml-ai-tutor?model=text-davinci-003)"
   ]
  },
  {
   "cell_type": "markdown",
   "id": "da7ef795-f158-4d92-b5fe-b71621db2d48",
   "metadata": {
    "slideshow": {
     "slide_type": "slide"
    },
    "tags": []
   },
   "source": [
    " ### W8 Intended Learning Outcomes\n",
    "1. Understanding of modern approaches to reinforcement learning\n",
    "2. Completed experience of working with Natural Language Processing"
   ]
  },
  {
   "cell_type": "markdown",
   "id": "459f5631-ed8b-4adf-8064-c48dc4faab26",
   "metadata": {
    "slideshow": {
     "slide_type": "slide"
    },
    "tags": []
   },
   "source": [
    " ## Week 9 (Thurs 30/3/23): Advances in optimisation metaheuristics \n",
    " \n",
    "### Presentation\n",
    "- Recap on metaheuristic approaches to optimisation, \n",
    "- Memetic Algorithms: hybridising global and local search\n",
    "- Multi-objective optimisation"
   ]
  },
  {
   "cell_type": "markdown",
   "id": "1d65e0c9-34b3-4057-9e5a-87495e04eb4f",
   "metadata": {
    "slideshow": {
     "slide_type": "slide"
    },
    "tags": []
   },
   "source": [
    "### W9 Practical activity and Self-Directed study: \n",
    "- building simple multi-objective optimiser\n",
    "- continuing coursework\n",
    "\n",
    "### W9 Intended Learning Outcomes\n",
    "1. Understanding of contemporary optimisation heuristics\n",
    "2. Experience of designing and implementing hybrid systems.\n",
    " "
   ]
  },
  {
   "cell_type": "markdown",
   "id": "50160965-38ff-4529-a63e-729583071894",
   "metadata": {
    "slideshow": {
     "slide_type": "slide"
    },
    "tags": []
   },
   "source": [
    " \n",
    " ## Week 10 (Thursday 20/4/23): Hybrids of different Optimisation/ ML approaches\n",
    " \n",
    " ### Presentation: Guest lecture from Prof. Larry Bull on Surrogate Model optimisation\n",
    " \n",
    " ### W10 Practical Activity: \n",
    " - working on Coursework\n",
    " \n",
    " ### W10 Intended Learning Outcomes\n",
    " - Understanding of the different ways that the complementary strengths of different AI techniques can be combined. "
   ]
  },
  {
   "cell_type": "markdown",
   "id": "29bc6219-06b5-484c-ac05-5aeced2c44ea",
   "metadata": {
    "slideshow": {
     "slide_type": "slide"
    },
    "tags": []
   },
   "source": [
    " \n",
    " ## Week 11 (Thursday 27/4/23): Active Learning\n",
    " ### Presentation: Active and Interactive Machine Learning\n",
    " - the basic concepts illustrated through different approaches to sat-nav systems.\n",
    " - examles from recent research projects\n",
    " \n",
    " ### W11 Practical activity: \n",
    " - working on coursework\n",
    " \n",
    " ### W1 Intended Learning Outcomes\n",
    " - An understanding of different ways in which effective human-machine teaming can be designed.\n",
    " "
   ]
  },
  {
   "cell_type": "markdown",
   "id": "1febdc1f-ed93-4eca-b1a4-7c57ecc9d233",
   "metadata": {},
   "source": [
    "## Week 12 (4/5/23): Groupwork Presentations"
   ]
  }
 ],
 "metadata": {
  "kernelspec": {
   "display_name": "py10",
   "language": "python",
   "name": "py10"
  },
  "language_info": {
   "codemirror_mode": {
    "name": "ipython",
    "version": 3
   },
   "file_extension": ".py",
   "mimetype": "text/x-python",
   "name": "python",
   "nbconvert_exporter": "python",
   "pygments_lexer": "ipython3",
   "version": "3.10.6"
  }
 },
 "nbformat": 4,
 "nbformat_minor": 5
}
