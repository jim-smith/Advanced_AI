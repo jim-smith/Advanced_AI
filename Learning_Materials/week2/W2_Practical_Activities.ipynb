{
 "cells": [
  {
   "cell_type": "markdown",
   "id": "0373028f-639a-441f-ba36-8bb61754b753",
   "metadata": {},
   "source": [
    "## Practical activity: Working in groups of exploring resources for training basic ConvNets on the CIFAR10 dataset\n",
    "\n",
    "\n",
    "\n",
    "### Learning Outcomes\n",
    "- Hands-on experience of creating simple convolutional networks\n",
    "- Practice in critically evaluating different sources of information that you might want to use in future\n",
    "- Effective time and resource management within a group\n",
    "- Summarising finding as a group then presenting these in the context of a wider class discussion.\n",
    "\n",
    "\n",
    "\n",
    "### Activities (groups of 3)\n",
    "1. **10 minutes**  As a group identify a suitable third tutorial / blog that discusses how to use a conv net for the cIFAR-10 task. Then  allocate tasks and agree time manager.\n",
    "\n",
    "- one person **must** look at [keras tutorial](https://www.tensorflow.org/tutorials/images/cnn) \n",
    "- the second *should* look at [Machine Learning mastery blog](https://machinelearningmastery.com/how-to-develop-a-cnn-from-scratch-for-cifar-10-photo-classification/)\n",
    " (stopping at the section \"How to Develop an Improved Model\")\n",
    "\n",
    "- the third looks at the other resource they identified such as [this kaggle tutorial](https://www.kaggle.com/code/amyjang/tensorflow-cifar10-cnn-tutorial)\n",
    "\n",
    "2. **5 minutes**\n",
    "As a group, make sure that you can adapt the workbook to take datasets from the local store /home/common/datasets/cifar where possible to save on bandwidth and storing multiple copies of the same data. \n",
    "The script in the code cell below should do that, if you use it in place of the line \n",
    "```(x_train, y_train), (x_test, y_test) = cifar10.load_data()```\n",
    "\n",
    "Best plan is to run the cell, which will create a python file caled local_cifar_loader then import it i.e.\n",
    "\n",
    "``` import local_cifar_loader as local_cifar ```\n",
    "\n",
    "``` (x_train, y_train), (x_test, y_test) =    local_cifar_loader.load(data) ```\n",
    "\n",
    "3. **30 minutes**\n",
    "All of them run through their workbooks and note down:\n",
    "- how easy to follow and self-contained was the explanation?\n",
    "- how easily could you have adapted it to another dataset?\n",
    "- what sort of accuracy were they getting?\n",
    "- how was that accuracy measured i.e. what metrics, train-test vs cross validation?\n",
    "- did the resource provide useful pointers for more things to explore?\n",
    "- how tightly did the workbook seem coupled ot a particular way of doing things / software infrastruture.\n",
    "- what other sources of help seemed easily accessible from that workbook?\n",
    "\n",
    "4. **15 minutes** Group compares notes and produces brief precis\n",
    "- How easy to follow was each resource?\n",
    "- How good were the trained models?  \n",
    "  And how did they measure that?\n",
    "- Did they all use the same CNN architecture?  \n",
    "  If not, did you understand:\n",
    "  - why the chose what they did?\n",
    "  - what the choices might have been for other layers ...\n",
    "- Would you use that source again?\n",
    "\n",
    "5. Class discussion\n",
    "- what sort of different resources are available?\n"
   ]
  },
  {
   "cell_type": "markdown",
   "id": "0b62bca0-4a1d-4c5b-9738-176266da5050",
   "metadata": {},
   "source": [
    "## Reference\n",
    "\n",
    "This tech report (Chapter 3) describes the dataset and the methodology followed when collecting it in much greater detail. \n",
    "Please cite it if you intend to use this dataset. \n",
    "[Learning Multiple Layers of Features from Tiny Images](https://www.cs.toronto.edu/~kriz/learning-features-2009-TR.pdf), Alex Krizhevsky, 2009."
   ]
  },
  {
   "cell_type": "markdown",
   "id": "bb397330-0fc7-4ad9-88a2-9f041a6adc8f",
   "metadata": {},
   "source": [
    "\n",
    "# Using locally stored copies of the cifar10 data\n",
    "\n",
    "1. Make a local copy of the python script [keras.datasets.cifar10.py](https://github.com/keras-team/keras/blob/v2.11.0/keras/datasets/cifar10.py)\n",
    " with the name *local_cifar_loader.py*\n",
    "2. Edit your local copy to comment out lines  80-88, which download a copy of the dataset\n",
    "\n",
    "3. Insert a new line directly after that (i.e. in line 89) which uses the common copy\n",
    "```path = /home/common/datasets//cifar10```\n",
    "\n"
   ]
  },
  {
   "cell_type": "code",
   "execution_count": null,
   "id": "a0a8ce99-2eff-4573-abd1-434f46004863",
   "metadata": {},
   "outputs": [],
   "source": []
  }
 ],
 "metadata": {
  "kernelspec": {
   "display_name": "py10",
   "language": "python",
   "name": "py10"
  },
  "language_info": {
   "codemirror_mode": {
    "name": "ipython",
    "version": 3
   },
   "file_extension": ".py",
   "mimetype": "text/x-python",
   "name": "python",
   "nbconvert_exporter": "python",
   "pygments_lexer": "ipython3",
   "version": "3.10.6"
  }
 },
 "nbformat": 4,
 "nbformat_minor": 5
}
