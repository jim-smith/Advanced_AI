{
 "cells": [
  {
   "cell_type": "markdown",
   "id": "92d1575e-db9a-4452-8b62-45fe7ede2e98",
   "metadata": {},
   "source": [
    "\n",
    "\n",
    "<div class=\"alert alert-block alert-info\" style=\"width:400px, text-color:black\"> \n",
    "For this task we will use  the <a href=\"https://www.kaggle.com/datasets/nipunarora8/age-gender-and-ethnicity-face-data-csv?select=age_gender.csv\">age-gender-and-ethnicity-face dataset</a> which contains a number of images, each accompanied with features recording the age,  gender,  and ethnicity of the person in the image. This is a  version of the <a href=\"https://susanqq.github.io/UTKFace/\" > UTKface dataset</a>, modified to make it easer to load as one file.<br>\n",
    "Please note that\n",
    "    <ul>\n",
    "        <li>It happens not contain any people who self-identified as non-binary. So gender is labelled as 0 (male) or 1 (female)</li>\n",
    "        <li> Ethicity is coded as an integer from 0 to 4, denoting White, Black, Asian, Indian, and Others (like Hispanic, Latino, Middle Eastern) (terms from original site).</li>\n",
    "          <li>  Each row of this version of the dataset contains integer values for the three features, a string with the name or the original jpg from the UTK archive, and a feature called 'pixels' which contains the 48x48 pixels values as a string.</li>\n",
    "    </ul>\n",
    "\n",
    "The next two cells load the data into a pandas dataframe and then shpw the first ten lines."
   ]
  },
  {
   "cell_type": "code",
   "execution_count": 7,
   "id": "c738466a-1e08-4fe7-9a63-31a2e0493e82",
   "metadata": {},
   "outputs": [],
   "source": [
    "import numpy as np \n",
    "import pandas as pd\n",
    "import os\n",
    "import socket"
   ]
  },
  {
   "cell_type": "code",
   "execution_count": 8,
   "id": "6cc2b077-95be-4799-aaa1-97608f426e88",
   "metadata": {},
   "outputs": [
    {
     "data": {
      "text/html": [
       "<div>\n",
       "<style scoped>\n",
       "    .dataframe tbody tr th:only-of-type {\n",
       "        vertical-align: middle;\n",
       "    }\n",
       "\n",
       "    .dataframe tbody tr th {\n",
       "        vertical-align: top;\n",
       "    }\n",
       "\n",
       "    .dataframe thead th {\n",
       "        text-align: right;\n",
       "    }\n",
       "</style>\n",
       "<table border=\"1\" class=\"dataframe\">\n",
       "  <thead>\n",
       "    <tr style=\"text-align: right;\">\n",
       "      <th></th>\n",
       "      <th>age</th>\n",
       "      <th>ethnicity</th>\n",
       "      <th>gender</th>\n",
       "      <th>img_name</th>\n",
       "      <th>pixels</th>\n",
       "      <th>label</th>\n",
       "    </tr>\n",
       "  </thead>\n",
       "  <tbody>\n",
       "    <tr>\n",
       "      <th>0</th>\n",
       "      <td>1</td>\n",
       "      <td>2</td>\n",
       "      <td>0</td>\n",
       "      <td>20161219203650636.jpg.chip.jpg</td>\n",
       "      <td>129.0 128.0 128.0 126.0 127.0 130.0 133.0 135....</td>\n",
       "      <td>pupil</td>\n",
       "    </tr>\n",
       "    <tr>\n",
       "      <th>1</th>\n",
       "      <td>1</td>\n",
       "      <td>2</td>\n",
       "      <td>0</td>\n",
       "      <td>20161219222752047.jpg.chip.jpg</td>\n",
       "      <td>164.0 74.0 111.0 168.0 169.0 171.0 175.0 182.0...</td>\n",
       "      <td>pupil</td>\n",
       "    </tr>\n",
       "    <tr>\n",
       "      <th>2</th>\n",
       "      <td>1</td>\n",
       "      <td>2</td>\n",
       "      <td>0</td>\n",
       "      <td>20161219222832191.jpg.chip.jpg</td>\n",
       "      <td>67.0 70.0 71.0 70.0 69.0 67.0 70.0 79.0 90.0 1...</td>\n",
       "      <td>pupil</td>\n",
       "    </tr>\n",
       "    <tr>\n",
       "      <th>3</th>\n",
       "      <td>1</td>\n",
       "      <td>2</td>\n",
       "      <td>0</td>\n",
       "      <td>20161220144911423.jpg.chip.jpg</td>\n",
       "      <td>193.0 197.0 198.0 200.0 199.0 200.0 202.0 203....</td>\n",
       "      <td>pupil</td>\n",
       "    </tr>\n",
       "    <tr>\n",
       "      <th>4</th>\n",
       "      <td>1</td>\n",
       "      <td>2</td>\n",
       "      <td>0</td>\n",
       "      <td>20161220144914327.jpg.chip.jpg</td>\n",
       "      <td>202.0 205.0 209.0 210.0 209.0 209.0 210.0 211....</td>\n",
       "      <td>pupil</td>\n",
       "    </tr>\n",
       "  </tbody>\n",
       "</table>\n",
       "</div>"
      ],
      "text/plain": [
       "   age  ethnicity  gender                        img_name  \\\n",
       "0    1          2       0  20161219203650636.jpg.chip.jpg   \n",
       "1    1          2       0  20161219222752047.jpg.chip.jpg   \n",
       "2    1          2       0  20161219222832191.jpg.chip.jpg   \n",
       "3    1          2       0  20161220144911423.jpg.chip.jpg   \n",
       "4    1          2       0  20161220144914327.jpg.chip.jpg   \n",
       "\n",
       "                                              pixels  label  \n",
       "0  129.0 128.0 128.0 126.0 127.0 130.0 133.0 135....  pupil  \n",
       "1  164.0 74.0 111.0 168.0 169.0 171.0 175.0 182.0...  pupil  \n",
       "2  67.0 70.0 71.0 70.0 69.0 67.0 70.0 79.0 90.0 1...  pupil  \n",
       "3  193.0 197.0 198.0 200.0 199.0 200.0 202.0 203....  pupil  \n",
       "4  202.0 205.0 209.0 210.0 209.0 209.0 210.0 211....  pupil  "
      ]
     },
     "execution_count": 8,
     "metadata": {},
     "output_type": "execute_result"
    }
   ],
   "source": [
    "if (socket.gethostname()=='csctcloud'): #on csctcloud\n",
    "    path=\"/home/common/datasets/\"\n",
    "else: #machine specific- this is for jim's development\n",
    "    path = \"../datasets\"\n",
    "dataframe = pd.read_csv(path+'/utk/teacher_pupil.csv')\n",
    "dataframe.head()"
   ]
  },
  {
   "cell_type": "markdown",
   "id": "11459d9e-8893-4d63-9a8d-d9b13418b2d6",
   "metadata": {},
   "source": [
    "### Let's start by splitting the images into a different dataframe"
   ]
  },
  {
   "cell_type": "code",
   "execution_count": 19,
   "id": "ac3e99e3-7236-4312-bc0a-1632fff6d07d",
   "metadata": {},
   "outputs": [
    {
     "ename": "TypeError",
     "evalue": "_split_dispatcher() missing 1 required positional argument: 'indices_or_sections'",
     "output_type": "error",
     "traceback": [
      "\u001b[0;31m---------------------------------------------------------------------------\u001b[0m",
      "\u001b[0;31mTypeError\u001b[0m                                 Traceback (most recent call last)",
      "Cell \u001b[0;32mIn [19], line 2\u001b[0m\n\u001b[1;32m      1\u001b[0m imgs \u001b[38;5;241m=\u001b[39m dataframe[\u001b[38;5;124m'\u001b[39m\u001b[38;5;124mpixels\u001b[39m\u001b[38;5;124m'\u001b[39m]\u001b[38;5;241m.\u001b[39mto_numpy()\n\u001b[0;32m----> 2\u001b[0m imgs \u001b[38;5;241m=\u001b[39m \u001b[43mnp\u001b[49m\u001b[38;5;241;43m.\u001b[39;49m\u001b[43msplit\u001b[49m\u001b[43m(\u001b[49m\u001b[43mimgs\u001b[49m\u001b[43m)\u001b[49m\u001b[38;5;66;03m#.reshape(-1,48,48,1)\u001b[39;00m\n\u001b[1;32m      3\u001b[0m \u001b[38;5;28mprint\u001b[39m(imgs\u001b[38;5;241m.\u001b[39mshape)\n",
      "File \u001b[0;32m<__array_function__ internals>:179\u001b[0m, in \u001b[0;36msplit\u001b[0;34m(*args, **kwargs)\u001b[0m\n",
      "\u001b[0;31mTypeError\u001b[0m: _split_dispatcher() missing 1 required positional argument: 'indices_or_sections'"
     ]
    }
   ],
   "source": [
    "imgs = dataframe['pixels'].to_numpy()\n",
    "imgs = np.split(imgs)#.reshape(-1,48,48,1)\n",
    "print(imgs.shape)"
   ]
  },
  {
   "cell_type": "markdown",
   "id": "95046ac3-2d88-42bf-91fc-a189404b0362",
   "metadata": {},
   "source": [
    "</div>\n",
    "\n",
    "and train classifiers to recogtnise their faces using no augmentation, or different types of augmentation. \n",
    "Questions to investigate:\n",
    "1. Which of these are valid transformations for human faces?:\n",
    " - horizontal shifts\n",
    " - vertical shifts\n",
    " - rotation\n",
    " - horizontal flips\n",
    " - vertical flips\n",
    "To do this investigation using appropriate scientific method, treat each of these as a hypothesis to be tested. Take a number of observations (e.g. accuracy of trained model) for each case (e.g. using horizontal flips vs not using horizontal flips) then compare the meana results and use appropriate statistcal tests to determine whethe the results are statistically significanrtly differernt."
   ]
  },
  {
   "cell_type": "code",
   "execution_count": 2,
   "id": "1edaeea5-e5db-48ed-88da-12a728b43d92",
   "metadata": {},
   "outputs": [],
   "source": [
    "import numpy as np \n",
    "import pandas as pd\n",
    "import os\n",
    "import socket\n",
    "\n",
    "from matplotlib import pyplot as plt\n",
    "import tensorflow as tf\n",
    "import random\n",
    "import math\n",
    "from tensorflow.keras.preprocessing.image import ImageDataGenerator\n",
    "from tensorflow.keras.utils import to_categorical "
   ]
  },
  {
   "cell_type": "code",
   "execution_count": 4,
   "id": "46a9a1b9-020b-49fe-a2b3-0557e30974a9",
   "metadata": {},
   "outputs": [
    {
     "data": {
      "text/html": [
       "<div>\n",
       "<style scoped>\n",
       "    .dataframe tbody tr th:only-of-type {\n",
       "        vertical-align: middle;\n",
       "    }\n",
       "\n",
       "    .dataframe tbody tr th {\n",
       "        vertical-align: top;\n",
       "    }\n",
       "\n",
       "    .dataframe thead th {\n",
       "        text-align: right;\n",
       "    }\n",
       "</style>\n",
       "<table border=\"1\" class=\"dataframe\">\n",
       "  <thead>\n",
       "    <tr style=\"text-align: right;\">\n",
       "      <th></th>\n",
       "      <th>age</th>\n",
       "      <th>ethnicity</th>\n",
       "      <th>gender</th>\n",
       "      <th>img_name</th>\n",
       "      <th>pixels</th>\n",
       "      <th>label</th>\n",
       "    </tr>\n",
       "  </thead>\n",
       "  <tbody>\n",
       "    <tr>\n",
       "      <th>0</th>\n",
       "      <td>1</td>\n",
       "      <td>2</td>\n",
       "      <td>0</td>\n",
       "      <td>20161219203650636.jpg.chip.jpg</td>\n",
       "      <td>129.0 128.0 128.0 126.0 127.0 130.0 133.0 135....</td>\n",
       "      <td>pupil</td>\n",
       "    </tr>\n",
       "    <tr>\n",
       "      <th>1</th>\n",
       "      <td>1</td>\n",
       "      <td>2</td>\n",
       "      <td>0</td>\n",
       "      <td>20161219222752047.jpg.chip.jpg</td>\n",
       "      <td>164.0 74.0 111.0 168.0 169.0 171.0 175.0 182.0...</td>\n",
       "      <td>pupil</td>\n",
       "    </tr>\n",
       "    <tr>\n",
       "      <th>2</th>\n",
       "      <td>1</td>\n",
       "      <td>2</td>\n",
       "      <td>0</td>\n",
       "      <td>20161219222832191.jpg.chip.jpg</td>\n",
       "      <td>67.0 70.0 71.0 70.0 69.0 67.0 70.0 79.0 90.0 1...</td>\n",
       "      <td>pupil</td>\n",
       "    </tr>\n",
       "    <tr>\n",
       "      <th>3</th>\n",
       "      <td>1</td>\n",
       "      <td>2</td>\n",
       "      <td>0</td>\n",
       "      <td>20161220144911423.jpg.chip.jpg</td>\n",
       "      <td>193.0 197.0 198.0 200.0 199.0 200.0 202.0 203....</td>\n",
       "      <td>pupil</td>\n",
       "    </tr>\n",
       "    <tr>\n",
       "      <th>4</th>\n",
       "      <td>1</td>\n",
       "      <td>2</td>\n",
       "      <td>0</td>\n",
       "      <td>20161220144914327.jpg.chip.jpg</td>\n",
       "      <td>202.0 205.0 209.0 210.0 209.0 209.0 210.0 211....</td>\n",
       "      <td>pupil</td>\n",
       "    </tr>\n",
       "  </tbody>\n",
       "</table>\n",
       "</div>"
      ],
      "text/plain": [
       "   age  ethnicity  gender                        img_name  \\\n",
       "0    1          2       0  20161219203650636.jpg.chip.jpg   \n",
       "1    1          2       0  20161219222752047.jpg.chip.jpg   \n",
       "2    1          2       0  20161219222832191.jpg.chip.jpg   \n",
       "3    1          2       0  20161220144911423.jpg.chip.jpg   \n",
       "4    1          2       0  20161220144914327.jpg.chip.jpg   \n",
       "\n",
       "                                              pixels  label  \n",
       "0  129.0 128.0 128.0 126.0 127.0 130.0 133.0 135....  pupil  \n",
       "1  164.0 74.0 111.0 168.0 169.0 171.0 175.0 182.0...  pupil  \n",
       "2  67.0 70.0 71.0 70.0 69.0 67.0 70.0 79.0 90.0 1...  pupil  \n",
       "3  193.0 197.0 198.0 200.0 199.0 200.0 202.0 203....  pupil  \n",
       "4  202.0 205.0 209.0 210.0 209.0 209.0 210.0 211....  pupil  "
      ]
     },
     "execution_count": 4,
     "metadata": {},
     "output_type": "execute_result"
    }
   ],
   "source": [
    "if (socket.gethostname()=='csctcloud'): #on csctcloud\n",
    "    path=\"/home/common/datasets/\"\n",
    "else: #machie specific- this is for jim's development\n",
    "    path = \"../datasets\"\n",
    "dataframe = pd.read_csv(path+'/utk/teacher_pupil.csv')\n",
    "dataframe.head()"
   ]
  },
  {
   "cell_type": "code",
   "execution_count": null,
   "id": "4d713bf4-7c35-4eb3-a0f2-fc74cfcea213",
   "metadata": {},
   "outputs": [],
   "source": []
  },
  {
   "cell_type": "markdown",
   "id": "7f66cd00-3f13-44fb-b9f2-233dd19ad0ec",
   "metadata": {},
   "source": [
    "# The main task:\n",
    "\n",
    "- Experiment with different orts of datau augmenation available within keras e.g. x-y shifts, rotations, translations and vertical/ horizontal flips.\n",
    "- Design an appropriate methodology to evaluate what difference they make singly or in combination to the classification accuracy of the trained system?  \n",
    "  *Hint*: If you are making several changes to a system you need some way of knowing which have had an effect: [ilustrated in 200 words](https://thaddeus-segura.com/data-aug/)\n"
   ]
  },
  {
   "cell_type": "markdown",
   "id": "e44f3646-6c0d-49aa-9e28-6bfeb87c9572",
   "metadata": {},
   "source": [
    "### class discussion\n",
    "does data augmentation provide a away of addressing:\n",
    "- ethical concerns about under-representation of certain groups\n",
    "- safety concerns for example wrt autonomous vehicles\n",
    "\n"
   ]
  }
 ],
 "metadata": {
  "kernelspec": {
   "display_name": "py10",
   "language": "python",
   "name": "py10"
  },
  "language_info": {
   "codemirror_mode": {
    "name": "ipython",
    "version": 3
   },
   "file_extension": ".py",
   "mimetype": "text/x-python",
   "name": "python",
   "nbconvert_exporter": "python",
   "pygments_lexer": "ipython3",
   "version": "3.10.6"
  }
 },
 "nbformat": 4,
 "nbformat_minor": 5
}
