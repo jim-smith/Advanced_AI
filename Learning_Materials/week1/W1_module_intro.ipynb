{
 "cells": [
  {
   "cell_type": "markdown",
   "id": "bdeec8a7-82b9-407f-9d91-bc9ba992aa45",
   "metadata": {
    "slideshow": {
     "slide_type": "slide"
    },
    "tags": []
   },
   "source": [
    "# Advanced AI (UFCFUR-15-3) \n",
    "\n",
    "## Week 1: Introduction to Module\n",
    "\n",
    "### Jim Smith\n",
    "\n",
    "### Attendance Code VO-WN-JZ "
   ]
  },
  {
   "cell_type": "markdown",
   "id": "527c3919-7826-45b8-a8dd-f3e0effa59cb",
   "metadata": {
    "slideshow": {
     "slide_type": "slide"
    },
    "tags": []
   },
   "source": [
    "## Learning Outcomes \n",
    "1. Critically appraise competing AI-based paradigms and algorithms in the context of the issues posed by particular problems \n",
    "\n",
    "2. Select and tune appropriate state of the art machine learning and optimisation algorithms to realistic sized problems illustrating properties such as scale, noise, missing data. \n",
    "\n",
    "3. Synthesise, design, and implement appropriate hybrid systems blending different paradigms for complex problems. \n",
    "\n",
    "4. Demonstrate skills in evaluating systems and presenting findings\n",
    "in ways appropriate to different audiences. \n"
   ]
  },
  {
   "cell_type": "markdown",
   "id": "100631bd-0ff4-4386-994f-b685a9acbe3d",
   "metadata": {
    "slideshow": {
     "slide_type": "slide"
    },
    "tags": []
   },
   "source": [
    "## Teaching and Learning Methods\n",
    "- One three hour timetabled session per week (36 hours total face-to face)\n",
    "  - flexible mixture of presentations and practical activities\n",
    "- Self-directed study tasks each week (114 hours total - 9.5 hours a week)\n",
    "  - reading papers or blogs\n",
    "  - watching videos \n",
    "  - preparing 5 minute presentations, for example on:  \n",
    "    that week's findings/ results, or\n",
    "    one particular advanced ML/ optimisation algorithm\n",
    "  - working on coursework\n",
    "    "
   ]
  },
  {
   "cell_type": "markdown",
   "id": "e7a9173e-e23d-4ea7-a9c4-cf04352a8e61",
   "metadata": {
    "slideshow": {
     "slide_type": "slide"
    },
    "tags": []
   },
   "source": [
    "## Resources\n",
    "\n",
    "- [Reading list]( https://uwe.rl.talis.com/lists/E265381F-BD4A-8A36-6A0B-1E2B473DC674.html)\n",
    "- github site  for notebooks etc. \n",
    "  - *continuously under development* \n",
    "  - will be available from week 2\n",
    "- Blackboard for:\n",
    "  - notebooks to upload to csctcloud/ jupyer\n",
    "  - recordings of lectures, \n",
    "  - finalised weekly materials\n",
    "  - everything to do with assessment"
   ]
  },
  {
   "cell_type": "markdown",
   "id": "1f430924-4f99-4e88-abe2-873c572200be",
   "metadata": {
    "slideshow": {
     "slide_type": "slide"
    },
    "tags": []
   },
   "source": [
    "## Assessment\n",
    "Students will work in small groups to design, implement and document an AI-based solution to a complex task with ‘difficult’ characteristics such as time complexity, limited data, or uncertainty in one or more forms.\n",
    "\n",
    "Each group will be assigned a tutor ’mentor’ who they can request to attend project meetings to provide formative feedback and agree their strategy for allocating marks amongst the group.\n",
    "\n",
    "_I will discuss group formation with  in the next two weeks before making my final decision_\n"
   ]
  },
  {
   "cell_type": "markdown",
   "id": "f78bc879-c952-4ae7-987f-4264db2135f0",
   "metadata": {
    "slideshow": {
     "slide_type": "slide"
    },
    "tags": []
   },
   "source": [
    "### Assessment is made up of a portfolio:\n",
    "In controlled conditions in a lab, the group will present and be questioned on:\n",
    "- a short video describing the project at a level suitable for a non-technical audience (e.g. management). **(20%)**\n",
    "- a demonstration of the software solution produced. **(40%)**\n",
    "\n",
    "Online submission of a written document of less than 2500 words, suitable for a more technical audience.**(40%)**\n",
    "This should critically review:\n",
    "- Challenges presented by the problem characteristics\n",
    "- Candidate approaches considered\n",
    "- The design and implementation of the chosen (possibly hybrid) system \n",
    "- The choice of metrics used to evaluate the proposed solution\n",
    "- The performance of their chosen system."
   ]
  },
  {
   "cell_type": "markdown",
   "id": "1ddfc42a-9fce-4438-91cb-391842fb8631",
   "metadata": {
    "slideshow": {
     "slide_type": "slide"
    },
    "tags": []
   },
   "source": [
    "## Schedule\n",
    "See separate notebook"
   ]
  }
 ],
 "metadata": {
  "kernelspec": {
   "display_name": "aienv",
   "language": "python",
   "name": "aienv"
  },
  "language_info": {
   "codemirror_mode": {
    "name": "ipython",
    "version": 3
   },
   "file_extension": ".py",
   "mimetype": "text/x-python",
   "name": "python",
   "nbconvert_exporter": "python",
   "pygments_lexer": "ipython3",
   "version": "3.11.6"
  }
 },
 "nbformat": 4,
 "nbformat_minor": 5
}
