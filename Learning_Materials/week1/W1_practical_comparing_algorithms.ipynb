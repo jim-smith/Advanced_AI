{
 "cells": [
  {
   "cell_type": "markdown",
   "id": "cd2289b8-c176-4def-884a-49332985b31b",
   "metadata": {
    "slideshow": {
     "slide_type": "slide"
    },
    "tags": []
   },
   "source": [
    "# Week 1 Practical Activity: Refreshing the Supervised Machine Learning Workflow"
   ]
  },
  {
   "cell_type": "markdown",
   "id": "f58075f6-354e-4bdb-b90e-1efe9e5088f4",
   "metadata": {
    "slideshow": {
     "slide_type": "slide"
    },
    "tags": []
   },
   "source": [
    "## Data set\n",
    "You can download the dataset penguins_size from [kaggle](https://www.kaggle.com/datasets/parulpandey/palmer-archipelago-antarctica-penguin-data?resource=download&select=penguins_size.csv)\n",
    "\n",
    "It describes three species of penguins from the Palmer Islands\n",
    "<img src=\"https://allisonhorst.github.io/palmerpenguins/reference/figures/lter_penguins.png\" alt=\"drawing of palmer penguins\" width=\"400\"/>"
   ]
  },
  {
   "cell_type": "markdown",
   "id": "34a22dc6-67c6-4c97-96d4-74795f471cd5",
   "metadata": {
    "slideshow": {
     "slide_type": "slide"
    },
    "tags": []
   },
   "source": [
    "This data has 344 records and seven features:\n",
    "- Species (use this as the label to be predicted)\n",
    "- Island\n",
    "- culmen_length_mm\n",
    "- culmen_depth_mm\n",
    "- flipper_length_mm\n",
    "- body_mass_g\n",
    "- sex\n",
    "\n",
    "Use the kaggle page, or the [page created by the original authors](https://allisonhorst.github.io/palmerpenguins/articles/intro.html) \n",
    "to understand what the data is capturing.   \n",
    "- The original page is in R,  \n",
    " - but you should be able understand what they are doing,\n",
    " - and it is good practice to be able to make sense of different implementations of the same methods"
   ]
  },
  {
   "cell_type": "markdown",
   "id": "713b1a09-873e-410c-9e67-98ad1ebe2779",
   "metadata": {
    "slideshow": {
     "slide_type": "slide"
    },
    "tags": []
   },
   "source": [
    "## Task description\n",
    "Create a simple notebook and use it to compare the performance of:\n",
    " - k-Nearest Neighbours\n",
    " - Decision Tree Classifier\n",
    " - Random Forest\n",
    " - a multi-layer perceptron\n",
    "\n",
    "at predicting the species of penguins from the Palmer Penguins dataset"
   ]
  },
  {
   "cell_type": "markdown",
   "id": "e9846027-9a0c-48f8-be59-5d62d72f90e8",
   "metadata": {
    "slideshow": {
     "slide_type": "slide"
    },
    "tags": []
   },
   "source": [
    " \n",
    "### When pre-processing your data, you will need to think about: \n",
    "- data normalisation, \n",
    "- handling missing data,\n",
    "- how you represent each feature  \n",
    "  *hint*: 'Island' is a categorical variable with more than two possible values.    The two tree-based approaches can cope, but how are you going to handle this for kNN and MLPs?\n",
    "- how you are going to represent the label feature for this 3-class problem."
   ]
  },
  {
   "cell_type": "markdown",
   "id": "dff7f6fb-fcb0-43d6-8af2-524022f50477",
   "metadata": {
    "slideshow": {
     "slide_type": "slide"
    },
    "tags": []
   },
   "source": [
    "### For constructing your test harness, you will need to think about:\n",
    "- how you estimate classifier accuracy, \n",
    "- how you select the hyper-parameters for different algorithms, \n",
    "- should you run some algorithms more than once?\n",
    "- and how much data you really have.\n",
    "- what results how are you going to store, and how?  \n",
    "  (in case you want to do more analysis later)"
   ]
  },
  {
   "cell_type": "markdown",
   "id": "5f487cd5-1af8-4a2f-afcd-32f959158024",
   "metadata": {
    "slideshow": {
     "slide_type": "slide"
    },
    "tags": []
   },
   "source": [
    "### Let me know if you are completely stuck\n",
    "### Otherwise, show me what you can do ...\n",
    "\n",
    "## We will spend the last 15 minutes of the session discussing how you have tackled this task."
   ]
  }
 ],
 "metadata": {
  "kernelspec": {
   "display_name": "Python 3 (ipykernel)",
   "language": "python",
   "name": "python3"
  },
  "language_info": {
   "codemirror_mode": {
    "name": "ipython",
    "version": 3
   },
   "file_extension": ".py",
   "mimetype": "text/x-python",
   "name": "python",
   "nbconvert_exporter": "python",
   "pygments_lexer": "ipython3",
   "version": "3.10.8"
  }
 },
 "nbformat": 4,
 "nbformat_minor": 5
}
