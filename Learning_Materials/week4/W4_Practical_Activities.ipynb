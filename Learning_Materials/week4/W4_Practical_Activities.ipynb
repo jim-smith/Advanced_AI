{
 "cells": [
  {
   "cell_type": "markdown",
   "id": "ae5426e9-a187-4340-8498-b946799a6c68",
   "metadata": {},
   "source": [
    "### Activity 1: getting experience from tutorials\n",
    "1. Download this [good tensorflow tutorial](https://www.tensorflow.org/tutorials/images/transfer_learning) with lots of examples of how to do the 'plumbing' using tensorflow built-in functions here: \n",
    " https://keras.io/guides/transfer_learning/\n",
    "2.  Activity: read through and run that tutorial. In particular note how:\n",
    "  - there is a neat way of creating a test and validation set\n",
    "  - when they do the second step of re-tuning they restart training from epoch 10 not zero (useful syntax)\n",
    " \n",
    "### Activity 2: Class discussion of how you got on\n",
    "  \n",
    "### Activity 3: turning experience into skills\n",
    "Based on the discussions abocve we will get you to do one of these two tasks\n",
    "3. Then use the ideas from that notebook to take the CNN that you trained on the CIFAR-10 data set in week 2,\n",
    "- freeze everything below the flatten() layer\n",
    "- and then add a new head and train it to classify genders in the the age-ethnicity-gender dataset. \n",
    "- Compare how long that takes to learn, and how effectively it does so,  \n",
    "  with training a CNN with the same configuration from scratch.\n",
    "- You might find it helpful to consider the ideas in this [keras guide about a final stage of fine tuning the entire tranfer-learned model](https://keras.io/guides/transfer_learning/)\n",
    "\n",
    "**OR**\n",
    "4. Repeat but train on MNIST then use that for transfer learning on on  **Fashion MNIST**\n",
    "This data set is a 'harder' alternative to MNIST: [Description on github repo](https://github.com/zalandoresearch/fashion-mnist)\n",
    "- there are 60 000 train images and 10 000 test images.\n",
    "- All single channel 28 x 28 pixels (same size as MNIST)\n",
    "- 10 classes for different types of clothes.\n",
    "- each row has a label followed by 784 (28*28) integer pixel values\n",
    "\n",
    "\n",
    "I've put local copies of the data in /home/common/datasets (csctcloud) or /shared/datasets (jupyter.csctcloud)\n",
    " \n",
    "The task is to demonstrate that you can apply the skills you learned in the Conv Net tutorial for a dataset with different image specs.\n",
    " - because you need the skills to load your own datasets not just using built-in ones.\n",
    " \n"
   ]
  },
  {
   "cell_type": "code",
   "execution_count": null,
   "id": "b03d538f-44de-4b6f-a6d8-acb50dd3ccac",
   "metadata": {},
   "outputs": [],
   "source": []
  }
 ],
 "metadata": {
  "kernelspec": {
   "display_name": "MLenv",
   "language": "python",
   "name": "mlenv"
  },
  "language_info": {
   "codemirror_mode": {
    "name": "ipython",
    "version": 3
   },
   "file_extension": ".py",
   "mimetype": "text/x-python",
   "name": "python",
   "nbconvert_exporter": "python",
   "pygments_lexer": "ipython3",
   "version": "3.10.0"
  }
 },
 "nbformat": 4,
 "nbformat_minor": 5
}
