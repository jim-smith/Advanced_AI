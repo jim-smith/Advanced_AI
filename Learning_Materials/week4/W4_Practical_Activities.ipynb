{
 "cells": [
  {
   "cell_type": "markdown",
   "id": "ae5426e9-a187-4340-8498-b946799a6c68",
   "metadata": {},
   "source": [
    "### Practical activity\n",
    "1. Download this [good tensorflow tutorial](https://www.tensorflow.org/tutorials/images/transfer_learning) with lots of examples of how to do the 'plumbing' using tensorflow built-in functions here: \n",
    " https://keras.io/guides/transfer_learning/\n",
    "2.  Activity: read through and run that tutorial. In particular note how:\n",
    "  - there is a neat way of creating a test and validation set\n",
    "  - when they do the second step of re-tuning they restart training from epoch 10 not zero (useful syntax)\n",
    "3. Then use the ideas from that notebook to take the CNN that you trained on the CIFAR data set in week 2,\n",
    "- freeze everything below the flatten() layer\n",
    "- and then add a new head and train it to classify genders in the the age-ethnicity-gender dataset. \n",
    "- Compare how long that takes to learn, and how effectively it does so,  \n",
    "  with training a CNN with the same configuration from scratch.\n",
    "- You might find it helpful to consider the ideas in this [keras guide about a final stage of fine tuning the entire tranfer-learned model](https://keras.io/guides/transfer_learning/)\n",
    "4. Repeat but train on MNIST then test on [Optical Character Recognition dataset](https://www.kaggle.com/datasets/preatcher/standard-ocr-dataset)"
   ]
  },
  {
   "cell_type": "code",
   "execution_count": null,
   "id": "b03d538f-44de-4b6f-a6d8-acb50dd3ccac",
   "metadata": {},
   "outputs": [],
   "source": []
  }
 ],
 "metadata": {
  "kernelspec": {
   "display_name": "py10",
   "language": "python",
   "name": "py10"
  },
  "language_info": {
   "codemirror_mode": {
    "name": "ipython",
    "version": 3
   },
   "file_extension": ".py",
   "mimetype": "text/x-python",
   "name": "python",
   "nbconvert_exporter": "python",
   "pygments_lexer": "ipython3",
   "version": "3.10.6"
  }
 },
 "nbformat": 4,
 "nbformat_minor": 5
}
