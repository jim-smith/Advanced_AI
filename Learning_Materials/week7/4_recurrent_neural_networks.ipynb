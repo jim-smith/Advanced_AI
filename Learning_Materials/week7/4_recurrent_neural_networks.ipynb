{
 "cells": [
  {
   "cell_type": "markdown",
   "metadata": {},
   "source": [
    "# Practical 4: Recurrent Neural Networks\n",
    "\n",
    "For most NLP problems the input representations consist of sequences of words (sentences, paragrphs, etc). The words in a sequnce have a temporal relationship, or in other words, the *order* in which they appear changes the meaning of the sequence. In the previous practical we looked at several text classification methods which were unable to model this sequential relationship. Either because the algorithm processes all input features at once, or because the temporal relationship is lost through the chosen representation (BOW/TF-IDF), or both.\n",
    "\n",
    "In contrast, RNN process each feature of an input exaple in turn, at each timestep. So each word of an input sequnce is processed and used to update an internal *hidden state*, or memory, of the network. Thus RNN are able to capture temporal relationships between each feature of an input example. For this reason RNN are frequently used form many NLP tasks, such as classification and language modelling.\n",
    "\n",
    "In the first part of this practical we will apply an RNN (LSTM) to the task of sentiment classifcation on the IMDB dataset. We will use word embedding representations for each word in the input sequence.\n",
    "\n",
    "In the second part of this practical we will explore various different configurations for RNN models, including bi-directional and stacked (or deep) RNNs. We will also use Comet ML to record results and compare different models and hyperparameter configurations.\n",
    "\n",
    "The objectives of this practical are:\n",
    "1. Understand the key concepts for applying RNN to NLP tasks, specifically input representations and shape\n",
    "\n",
    "2. Consider different RNN configurations and output modes, including returning sequences, or only the last hidden state, bi-directional and stacked RNN\n",
    "\n",
    "3. Compare and contrast different hyperparameters and models, making use of ML platforms, like Comet ML, to record and present results"
   ]
  },
  {
   "cell_type": "markdown",
   "metadata": {},
   "source": [
    "# 1 LSTM for Sentiment Classification\n",
    "\n",
    "## 1.0 Import libraries"
   ]
  },
  {
   "cell_type": "code",
   "execution_count": null,
   "metadata": {},
   "outputs": [],
   "source": [
    "import os\n",
    "import spacy\n",
    "import numpy as np\n",
    "import pandas as pd\n",
    "import matplotlib.pyplot as plt\n",
    "import seaborn as sns\n",
    "import gensim.downloader as gen\n",
    "import tensorflow as tf\n",
    "from tensorflow.keras import models, layers\n",
    "from sklearn.model_selection import train_test_split\n",
    "from sklearn.metrics import accuracy_score, ConfusionMatrixDisplay\n",
    "%matplotlib inline\n",
    "\n",
    "# Set the directory to the data folder\n",
    "data_dir = os.path.join('..', 'data', 'imdb')\n",
    "\n",
    "# Spacy needs to install the language model also\n",
    "# If you recieve an error, uncomment the following line and re-run the cell\n",
    "# !python -m spacy download en_core_web_sm\n",
    "nlp = spacy.load('en_core_web_sm')"
   ]
  },
  {
   "cell_type": "markdown",
   "metadata": {},
   "source": [
    "## 1.1 Load and pre-process data"
   ]
  },
  {
   "cell_type": "markdown",
   "metadata": {},
   "source": [
    "1. First load the full IMDB dataset and our smaller reviews set.\n",
    "\n",
    "2. Then we need to convert the 'positive' and 'negative' class labels to numerical values, 1 for positive and 0 for negative. Using the pandas `get_dummies` function creates two binary valued columns and then the `drop_first` parameter collapses these into a single column.\n",
    "\n",
    "3. The next cell plots the distribution of reveiew lengths in terms of number of tokens. This is important for RNN models because each token of an input review will be processed in turn, and so each input example will be a different length. Padding each review to the length of the longest in the data will increase processing time and may impact performance, so the distribution allows us to choose a suitable `max_seq_len` for the model to process. From the graph it looks like most reviews are less than 200 in length, so 100 to 200 should be a suitable `max_seq_len`."
   ]
  },
  {
   "cell_type": "code",
   "execution_count": null,
   "metadata": {},
   "outputs": [],
   "source": [
    "# Load the imdb dataset\n",
    "imdb_data = pd.read_csv(os.path.join(data_dir, 'imdb_dataset.csv'))\n",
    "\n",
    "# Load your imdb reviews\n",
    "imdb_reviews = pd.read_csv(os.path.join(data_dir, 'imdb_reviews.csv'), index_col=0)\n",
    "# Just keep the review text and the sentiment columns\n",
    "imdb_reviews = imdb_reviews[['review', 'sentiment']]\n",
    "\n",
    "# Convert the sentiment to a binary value\n",
    "imdb_data['sentiment'] = pd.get_dummies(imdb_data['sentiment'], drop_first=True)\n",
    "imdb_reviews['sentiment'] = pd.get_dummies(imdb_reviews['sentiment'], drop_first=True)\n",
    "\n",
    "imdb_data.head()"
   ]
  },
  {
   "cell_type": "code",
   "execution_count": null,
   "metadata": {},
   "outputs": [],
   "source": [
    "# Tokenise the reviews\n",
    "tokenised_data = imdb_data['review'].apply(lambda x: [token.text for token in nlp.tokenizer(x)])\n",
    "\n",
    "# Plot the distribution of review lengths\n",
    "seq_lengths = [len(review) for review in tokenised_data]\n",
    "sns.displot(seq_lengths, kind='hist')\n",
    "plt.show()"
   ]
  },
  {
   "cell_type": "markdown",
   "metadata": {},
   "source": [
    "### Load the vocabulary\n",
    "\n",
    "You should have also created a vocabulary from the larger IMDB dataset, so lets load that and set the vocabulary size accordingly. We will also add some special padding and unknown tokens for use later."
   ]
  },
  {
   "cell_type": "code",
   "execution_count": null,
   "metadata": {},
   "outputs": [],
   "source": [
    "# Load the vocabulary file and store each word in a list\n",
    "with open(os.path.join(data_dir, 'imdb_vocab.txt'), 'r') as file:\n",
    "    imdb_vocab = file.read().splitlines() \n",
    "    \n",
    "# Set the vocab size\n",
    "vocab_size = 2000\n",
    "\n",
    "# Add the padding and unknown tokens to the vocabulary\n",
    "imdb_vocab.insert(0, '')\n",
    "imdb_vocab.insert(1, '[UNK]')\n",
    "imdb_vocab = imdb_vocab[:vocab_size]\n",
    "\n",
    "# Print the vocabulary\n",
    "print(\"Vocabulary size: \" + str(vocab_size))\n",
    "for i, word in enumerate(imdb_vocab[:50]):\n",
    "    print(f'({str(i)}, {word})', end=' ')"
   ]
  },
  {
   "cell_type": "markdown",
   "metadata": {},
   "source": [
    "### Process and vectorise the text\n",
    "\n",
    "We will be using embedding representations as input to the RNN model, so each word in an input review needs to be mapped to its embedding vector. To do this we must first map each word to an integer according to its index within the vocabulary and then use that as a 'lookup' for the corresponding embedding. The result will be a 2D matrix/tensor of shape (`max_seq_len`, `embedding_dim`) for each input example. However, performing these steps manually beforhand results in a very large input tensor! So we will take advantage of the `TextVectorisation` layer and `Embedding` layer in Keras.\n",
    "\n",
    "1. We will split the data as normal, using the full IMDB data as training and validation and our reviews as a test set.\n",
    "\n",
    "2. Set up the text vectorisation layer with our vocabulary and specified `max_seq_len`. This layer takes a string input, tokenises each word, maps to integers and then outputs a sequence of the specified length."
   ]
  },
  {
   "cell_type": "code",
   "execution_count": null,
   "metadata": {},
   "outputs": [],
   "source": [
    "# Set the maximum sequence legth\n",
    "max_seq_len = 200\n",
    "\n",
    "# Get the reviews\n",
    "X = imdb_data['review'].values\n",
    "print('Shape of X:', X.shape)\n",
    "print(X[:2])\n",
    "\n",
    "# Get the class labels\n",
    "y = imdb_data['sentiment'].values\n",
    "print('Shape of y:', y.shape)\n",
    "print(y[:2])\n",
    "\n",
    "# Split the data into training and validation sets\n",
    "X_train, X_val, y_train, y_val = train_test_split(X, y, test_size=0.2, random_state=42)\n",
    "\n",
    "# Get the test data\n",
    "X_test = imdb_reviews['review'].values\n",
    "y_test = imdb_reviews['sentiment'].values\n",
    "\n",
    "# Create the text vectoriser\n",
    "vectorise_layer = layers.experimental.preprocessing.TextVectorization(\n",
    " max_tokens=vocab_size,\n",
    " standardize=None,\n",
    " split='whitespace',\n",
    " output_mode='int',\n",
    " output_sequence_length=max_seq_len,\n",
    " pad_to_max_tokens=False,\n",
    " vocabulary=imdb_vocab\n",
    " )\n",
    "\n",
    "# Adapt the vectoriser to the training data\n",
    "vectorise_layer.adapt(X_train)\n",
    "\n",
    "# Vocabulary size and content should be the same as above\n",
    "print(\"Vectoriser vocabulary size: \" + str(len(vectorise_layer.get_vocabulary())))\n",
    "print(vectorise_layer.get_vocabulary()[:50])"
   ]
  },
  {
   "cell_type": "markdown",
   "metadata": {},
   "source": [
    "### Create an embedding matrix\n",
    "\n",
    "We need to create an embedding matrix of shape (`vocab_size`, `embedding_dim`). This will be the 'lookup' table for each word in an input sequence to be mapped to its embedding. We will use pre-trained [GloVe](https://nlp.stanford.edu/projects/glove/) embeddings as these should already contain information about the word relations from the millions of words they were trained on.\n",
    "\n",
    "1. Create a numpy embedding matrix by looping over the vocabulary and assigning each word an embedding. If the word is not present in the GloVe vectors we will generate a random embedding.\n",
    "\n",
    "2. Then create an embedding layer using the embedding matrix as the lookup. This layer takes a `max_seq_len` sequence of integers as input and maps each word to an embedding to produce a tensor of shape (`max_seq_len`, `embedding_dim`)."
   ]
  },
  {
   "cell_type": "code",
   "execution_count": null,
   "metadata": {},
   "outputs": [],
   "source": [
    "# Set the embedding dimension\n",
    "embedding_dim = 300\n",
    "\n",
    "# Load the word embeddings\n",
    "glove_vectors = gen.load(\"glove-wiki-gigaword-300\")\n",
    "\n",
    "# Generate the embedding matrix\n",
    "embedding_matrix = np.zeros((vocab_size, embedding_dim))\n",
    "for i, word in enumerate(imdb_vocab):\n",
    "    if word in glove_vectors:\n",
    "        embedding_matrix[i] = glove_vectors[word]\n",
    "    else:\n",
    "        embedding_matrix[i] = np.random.uniform(low=-1.0, high=1.0, size=embedding_dim)\n",
    "\n",
    "print('Shape of embeddings:', embedding_matrix.shape)\n",
    "print(embedding_matrix[:5])\n",
    "\n",
    "# Create the embedding layer\n",
    "embedding_layer = layers.Embedding(\n",
    " input_dim=vocab_size,\n",
    " output_dim=embedding_dim,\n",
    " input_length=max_seq_len,\n",
    " embeddings_initializer=tf.keras.initializers.Constant(embedding_matrix),\n",
    " trainable=False)"
   ]
  },
  {
   "cell_type": "markdown",
   "metadata": {},
   "source": [
    "## 1.2 Build the RNN model\n",
    "\n",
    "The cell below creates a Keras functional model:\n",
    "- The input layer takes a batch of single strings\n",
    "\n",
    "- Vectorisation layer tokenises and maps each word to integers.\n",
    "\n",
    "- Embedding layer maps each sequence of words to embeddings\n",
    "\n",
    "- RNN processes each word in the sequence in turn. Here, because `return_sequences=False` we are taking the last hidden state as the encoded sequence representation.\n",
    "\n",
    "- Finally several feed forward layers perform classification.\n",
    "\n",
    "Study the model summary and make sure you are happy with the different operations and resulting tensor shapes as data passes through the model."
   ]
  },
  {
   "cell_type": "code",
   "execution_count": null,
   "metadata": {},
   "outputs": [],
   "source": [
    "# Input layer takes in a string\n",
    "inputs = tf.keras.Input(shape=(1,), dtype=tf.string)\n",
    "\n",
    "# Vectorise the inputs\n",
    "vectorised_inputs = vectorise_layer(inputs)\n",
    "\n",
    "# Embed the inputs\n",
    "embedded_inputs = embedding_layer(vectorised_inputs)\n",
    "\n",
    "# Recurrent layer\n",
    "x = layers.LSTM(128, return_sequences=False)(embedded_inputs)\n",
    "\n",
    "# Classification layers\n",
    "x = layers.Dropout(0.2)(x)\n",
    "x = layers.Dense(32, activation=\"relu\")(x)\n",
    "x = layers.Dropout(0.1)(x)\n",
    "outputs = layers.Dense(1, activation=\"sigmoid\")(x)\n",
    "\n",
    "# Compile the model\n",
    "model = tf.keras.Model(inputs=inputs, outputs=outputs, name=\"LSTM\")\n",
    "model.compile(optimizer=\"rmsprop\", loss=\"binary_crossentropy\", metrics=[\"accuracy\"])\n",
    "model.summary()"
   ]
  },
  {
   "cell_type": "markdown",
   "metadata": {},
   "source": [
    "### Train and evaluate the model"
   ]
  },
  {
   "cell_type": "code",
   "execution_count": null,
   "metadata": {},
   "outputs": [],
   "source": [
    "# Fit the model\n",
    "results = model.fit(X_train, y_train, epochs=10, batch_size=128, validation_data=(X_val, y_val))\n",
    "print(\"Validation Accuracy:\", round(results.history[\"val_accuracy\"][-1], 3))\n",
    "\n",
    "# Predict class labels for test set\n",
    "predictions = model.predict(X_test)\n",
    "predictions = [0 if x < 0.5 else 1 for x in predictions] # Convert probabilities to binary\n",
    "print('Test Accuracy:', accuracy_score(y_test, predictions))\n",
    "\n",
    "# Print confusion matrix\n",
    "conf_matrix = ConfusionMatrixDisplay.from_predictions(y_test, predictions, display_labels=['negative', 'positive',], colorbar=False)\n",
    "plt.show()"
   ]
  },
  {
   "cell_type": "markdown",
   "metadata": {},
   "source": [
    "# 2 Experimenting with RNN\n",
    "\n",
    "## 2.0 Import libraries\n",
    "\n",
    "1. [Comet ML](https://www.comet.com/) - is an experiment and model tracking API which allows easy logging of model hyperparameters and experiment metrics."
   ]
  },
  {
   "cell_type": "code",
   "execution_count": 1,
   "metadata": {},
   "outputs": [],
   "source": [
    "import comet_ml\n",
    "import os\n",
    "import numpy as np\n",
    "import pandas as pd\n",
    "import matplotlib.pyplot as plt\n",
    "import seaborn as sns\n",
    "import gensim.downloader as gen\n",
    "import tensorflow as tf\n",
    "from tensorflow.keras import models, layers\n",
    "from sklearn.model_selection import train_test_split\n",
    "from sklearn.metrics import accuracy_score, ConfusionMatrixDisplay\n",
    "%matplotlib inline\n",
    "\n",
    "# Set the directory to the data folder\n",
    "data_dir = os.path.join('..', 'data', 'imdb')"
   ]
  },
  {
   "cell_type": "markdown",
   "metadata": {},
   "source": [
    "## 2.1 Load and pre-process data"
   ]
  },
  {
   "cell_type": "code",
   "execution_count": 2,
   "metadata": {},
   "outputs": [
    {
     "data": {
      "text/html": [
       "<div>\n",
       "<style scoped>\n",
       "    .dataframe tbody tr th:only-of-type {\n",
       "        vertical-align: middle;\n",
       "    }\n",
       "\n",
       "    .dataframe tbody tr th {\n",
       "        vertical-align: top;\n",
       "    }\n",
       "\n",
       "    .dataframe thead th {\n",
       "        text-align: right;\n",
       "    }\n",
       "</style>\n",
       "<table border=\"1\" class=\"dataframe\">\n",
       "  <thead>\n",
       "    <tr style=\"text-align: right;\">\n",
       "      <th></th>\n",
       "      <th>review</th>\n",
       "      <th>sentiment</th>\n",
       "    </tr>\n",
       "  </thead>\n",
       "  <tbody>\n",
       "    <tr>\n",
       "      <th>0</th>\n",
       "      <td>reviewers mentioned watching 1 oz episode hook...</td>\n",
       "      <td>1</td>\n",
       "    </tr>\n",
       "    <tr>\n",
       "      <th>1</th>\n",
       "      <td>wonderful little production filming technique ...</td>\n",
       "      <td>1</td>\n",
       "    </tr>\n",
       "    <tr>\n",
       "      <th>2</th>\n",
       "      <td>thought wonderful way spend time hot summer we...</td>\n",
       "      <td>1</td>\n",
       "    </tr>\n",
       "    <tr>\n",
       "      <th>3</th>\n",
       "      <td>basically family little boy jake thinks zombie...</td>\n",
       "      <td>0</td>\n",
       "    </tr>\n",
       "    <tr>\n",
       "      <th>4</th>\n",
       "      <td>petter mattei s love time money visually stunn...</td>\n",
       "      <td>1</td>\n",
       "    </tr>\n",
       "  </tbody>\n",
       "</table>\n",
       "</div>"
      ],
      "text/plain": [
       "                                              review  sentiment\n",
       "0  reviewers mentioned watching 1 oz episode hook...          1\n",
       "1  wonderful little production filming technique ...          1\n",
       "2  thought wonderful way spend time hot summer we...          1\n",
       "3  basically family little boy jake thinks zombie...          0\n",
       "4  petter mattei s love time money visually stunn...          1"
      ]
     },
     "execution_count": 2,
     "metadata": {},
     "output_type": "execute_result"
    }
   ],
   "source": [
    "# Load the imdb dataset\n",
    "imdb_data = pd.read_csv(os.path.join(data_dir, 'imdb_dataset.csv'))\n",
    "\n",
    "# Load your imdb reviews\n",
    "imdb_reviews = pd.read_csv(os.path.join(data_dir, 'imdb_reviews.csv'), index_col=0)\n",
    "# Just keep the review text and the sentiment columns\n",
    "imdb_reviews = imdb_reviews[['review', 'sentiment']]\n",
    "\n",
    "# Convert the sentiment to a binary value\n",
    "imdb_data['sentiment'] = pd.get_dummies(imdb_data['sentiment'], drop_first=True)\n",
    "imdb_reviews['sentiment'] = pd.get_dummies(imdb_reviews['sentiment'], drop_first=True)\n",
    "\n",
    "imdb_data.head()"
   ]
  },
  {
   "cell_type": "markdown",
   "metadata": {},
   "source": [
    "### Load the vocabulary"
   ]
  },
  {
   "cell_type": "code",
   "execution_count": 3,
   "metadata": {},
   "outputs": [
    {
     "name": "stdout",
     "output_type": "stream",
     "text": [
      "Vocabulary size: 2000\n",
      "(0, ) (1, [UNK]) (2, movie) (3, film) (4, s) (5, like) (6, good) (7, time) (8, story) (9, bad) (10, people) (11, great) (12, way) (13, movies) (14, characters) (15, think) (16, watch) (17, character) (18, films) (19, seen) (20, love) (21, plot) (22, life) (23, acting) (24, best) (25, know) (26, little) (27, man) (28, better) (29, end) (30, scene) (31, scenes) (32, real) (33, thing) (34, watching) (35, actors) (36, director) (37, old) (38, years) (39, funny) (40, going) (41, work) (42, 10) (43, actually) (44, makes) (45, look) (46, find) (47, new) (48, lot) (49, want) "
     ]
    }
   ],
   "source": [
    "# Load the vocabulary file and store each word in a list\n",
    "with open(os.path.join(data_dir, 'imdb_vocab.txt'), 'r') as file:\n",
    "    imdb_vocab = file.read().splitlines() \n",
    "    \n",
    "# Set the vocab size\n",
    "vocab_size = 2000\n",
    "\n",
    "# Add the padding and unknown tokens to the vocabulary\n",
    "imdb_vocab.insert(0, '')\n",
    "imdb_vocab.insert(1, '[UNK]')\n",
    "imdb_vocab = imdb_vocab[:vocab_size]\n",
    "\n",
    "# Print the vocabulary\n",
    "print(\"Vocabulary size: \" + str(vocab_size))\n",
    "for i, word in enumerate(imdb_vocab[:50]):\n",
    "    print(f'({str(i)}, {word})', end=' ')"
   ]
  },
  {
   "cell_type": "markdown",
   "metadata": {},
   "source": [
    "### Process and vectorise the text"
   ]
  },
  {
   "cell_type": "code",
   "execution_count": 4,
   "metadata": {},
   "outputs": [
    {
     "name": "stdout",
     "output_type": "stream",
     "text": [
      "Shape of X: (50000,)\n",
      "['reviewers mentioned watching 1 oz episode hooked right exactly happened thing struck oz brutality unflinching scenes violence set right word trust faint hearted timid pulls punches regards drugs sex violence hardcore classic use word called oz nickname given oswald maximum security state penitentary focuses mainly emerald city experimental section prison cells glass fronts face inwards privacy high agenda city home aryans muslims gangstas latinos christians italians irish scuffles death stares dodgy dealings shady agreements far away main appeal fact goes shows dare forget pretty pictures painted mainstream audiences forget charm forget romance oz mess episode saw struck nasty surreal ready watched developed taste oz got accustomed high levels graphic violence violence injustice crooked guards sold nickel inmates kill order away mannered middle class inmates turned prison bitches lack street skills prison experience watching oz comfortable uncomfortable viewing touch darker'\n",
      " 'wonderful little production filming technique unassuming old time bbc fashion gives comforting discomforting sense realism entire piece actors extremely chosen michael sheen got polari voices pat truly seamless editing guided references williams diary entries worth watching terrificly written performed piece masterful production great master s comedy life realism comes home little things fantasy guard use traditional dream techniques remains solid disappears plays knowledge senses particularly scenes concerning orton halliwell sets particularly flat halliwell s murals decorating surface terribly']\n",
      "Shape of y: (50000,)\n",
      "[1 1]\n"
     ]
    }
   ],
   "source": [
    "# Set the maximum sequence legth\n",
    "max_seq_len = 200\n",
    "\n",
    "# Get the reviews\n",
    "X = imdb_data['review'].values\n",
    "print('Shape of X:', X.shape)\n",
    "print(X[:2])\n",
    "\n",
    "# Get the class labels\n",
    "y = imdb_data['sentiment'].values\n",
    "print('Shape of y:', y.shape)\n",
    "print(y[:2])\n",
    "\n",
    "# Split the data into training and validation sets\n",
    "X_train, X_val, y_train, y_val = train_test_split(X, y, test_size=0.2, random_state=42)\n",
    "\n",
    "# Get the test data\n",
    "X_test = imdb_reviews['review'].values\n",
    "y_test = imdb_reviews['sentiment'].values"
   ]
  },
  {
   "cell_type": "markdown",
   "metadata": {},
   "source": [
    "### Create an embedding matrix"
   ]
  },
  {
   "cell_type": "code",
   "execution_count": 5,
   "metadata": {},
   "outputs": [
    {
     "name": "stdout",
     "output_type": "stream",
     "text": [
      "Shape of embeddings: (2000, 300)\n",
      "[[-0.14515546 -0.39247585 -0.25915112 ...  0.4540832  -0.04217864\n",
      "   0.66845111]\n",
      " [-0.8630558  -0.4488386   0.73237626 ...  0.46465078  0.79680394\n",
      "   0.45015108]\n",
      " [-0.138      -0.12203     0.0054643  ...  0.19934     0.057473\n",
      "  -0.023767  ]\n",
      " [-0.030351   -0.17344999 -0.097576   ...  0.26174     0.083567\n",
      "  -0.19064   ]\n",
      " [ 0.31000999  0.046907   -0.31283    ... -0.74206001 -0.41123\n",
      "   0.73799002]]\n"
     ]
    }
   ],
   "source": [
    "# Set the embedding dimension\n",
    "embedding_dim = 300\n",
    "\n",
    "# Load the word embeddings\n",
    "glove_vectors = gen.load(\"glove-wiki-gigaword-300\")\n",
    "\n",
    "# Generate the embedding matrix\n",
    "embedding_matrix = np.zeros((vocab_size, embedding_dim))\n",
    "for i, word in enumerate(imdb_vocab):\n",
    "    if word in glove_vectors:\n",
    "        embedding_matrix[i] = glove_vectors[word]\n",
    "    else:\n",
    "        embedding_matrix[i] = np.random.uniform(low=-1.0, high=1.0, size=embedding_dim)\n",
    "\n",
    "print('Shape of embeddings:', embedding_matrix.shape)\n",
    "print(embedding_matrix[:5])"
   ]
  },
  {
   "cell_type": "markdown",
   "metadata": {},
   "source": [
    "## 2.2 Set up the Comet experiment and build the model\n",
    "\n",
    "Here we will train a similar LSTM model but we will use Comet ML to log the training metrics and model hyperparameters. This will allow us to compare the impact of different models and different hyperparamters on the sentiment classification task. Comet allows you to track models, experiments and also produce graphs for comparison.\n",
    "\n",
    "1. You will need a Comet ML account and  optionally to have created a project. Once you have an account you will need your API key. A guide can be found [here](https://www.comet.com/docs/v2/guides/getting-started/quickstart/).\n",
    "\n",
    "2. The first two lines create a comet experiment object that will be used to track the training and log metrics/parameters. You need the API key, to (optionally) provide a project name and set the workspace to your username. Then we can also provide a name for this experiment.\n",
    "\n",
    "3. Next some experiment and model hyperparameters are set within a dictionary. These can be any relevant values but for now we have one pre-processing parameter (`max_seq_len`), several model hyperparameters and some training parameters (`batch_size` and `epochs`).\n",
    "\n",
    "4. Finally, build the model as before, except use the parameters defined within the dictionary."
   ]
  },
  {
   "cell_type": "code",
   "execution_count": 9,
   "metadata": {},
   "outputs": [
    {
     "name": "stderr",
     "output_type": "stream",
     "text": [
      "COMET WARNING: As you are running in a Jupyter environment, you will need to call `experiment.end()` when finished to ensure all metrics and code are logged before exiting.\n",
      "COMET INFO: Experiment is live on comet.com https://www.comet.com/nathanduran/general/f4de6a0fc25442feb384d2522a36f59c\n",
      "\n"
     ]
    },
    {
     "name": "stdout",
     "output_type": "stream",
     "text": [
      "Model: \"LSTM\"\n",
      "_________________________________________________________________\n",
      "Layer (type)                 Output Shape              Param #   \n",
      "=================================================================\n",
      "input_3 (InputLayer)         [(None, 1)]               0         \n",
      "_________________________________________________________________\n",
      "text_vectorization_2 (TextVe (None, 200)               0         \n",
      "_________________________________________________________________\n",
      "embedding_2 (Embedding)      (None, 200, 300)          600000    \n",
      "_________________________________________________________________\n",
      "lstm_4 (LSTM)                (None, 128)               219648    \n",
      "_________________________________________________________________\n",
      "dropout_4 (Dropout)          (None, 128)               0         \n",
      "_________________________________________________________________\n",
      "dense_4 (Dense)              (None, 32)                4128      \n",
      "_________________________________________________________________\n",
      "dropout_5 (Dropout)          (None, 32)                0         \n",
      "_________________________________________________________________\n",
      "dense_5 (Dense)              (None, 1)                 33        \n",
      "=================================================================\n",
      "Total params: 823,809\n",
      "Trainable params: 223,809\n",
      "Non-trainable params: 600,000\n",
      "_________________________________________________________________\n"
     ]
    }
   ],
   "source": [
    "# Create the comet ml experiment\n",
    "experiment = comet_ml.Experiment(workspace=\"nathanduran\", log_env_gpu=False)\n",
    "experiment.set_name('lstm')\n",
    "\n",
    "# Set and log the hyperparameters\n",
    "params = {'max_seq_len': 100,\n",
    "          'lstm_units': 128,\n",
    "          'dropout': 0.2,\n",
    "          'dense_units': 32,\n",
    "          'optimizer': 'adam',\n",
    "          'learning_rate': 0.001,\n",
    "          'batch_size': 128,\n",
    "          'epochs': 10,}\n",
    "\n",
    "experiment.log_parameters(params)\n",
    "\n",
    "# Create the text vectoriser\n",
    "vectorise_layer = layers.experimental.preprocessing.TextVectorization(\n",
    " max_tokens=vocab_size,\n",
    " standardize=None,\n",
    " split='whitespace',\n",
    " output_mode='int',\n",
    " output_sequence_length=max_seq_len,\n",
    " pad_to_max_tokens=False,\n",
    " vocabulary=imdb_vocab\n",
    " )\n",
    "\n",
    "# Adapt the vectoriser to the training data\n",
    "vectorise_layer.adapt(X_train)\n",
    "\n",
    "# Create the embedding layer\n",
    "embedding_layer=layers.Embedding(\n",
    " input_dim=vocab_size,\n",
    " output_dim=embedding_dim,\n",
    " input_length=max_seq_len,\n",
    " embeddings_initializer=tf.keras.initializers.Constant(embedding_matrix),\n",
    " trainable=False)\n",
    "\n",
    "# Input layer takes in a string\n",
    "inputs = tf.keras.Input(shape=(1,), dtype=tf.string)\n",
    "\n",
    "# Vectorise the inputs\n",
    "vectorised_inputs = vectorise_layer(inputs)\n",
    "\n",
    "# Embed the inputs\n",
    "embedded_inputs = embedding_layer(vectorised_inputs)\n",
    "\n",
    "# Recurrent layer\n",
    "x = layers.LSTM(params['lstm_units'], return_sequences=False)(embedded_inputs)\n",
    "\n",
    "# Classification layers\n",
    "x = layers.Dropout(params['dropout'])(x)\n",
    "x = layers.Dense(params['dense_units'], activation=\"relu\")(x)\n",
    "x = layers.Dropout(params['dropout'])(x)\n",
    "outputs = layers.Dense(1, activation=\"sigmoid\")(x)\n",
    "\n",
    "# Compile the model\n",
    "model = tf.keras.Model(inputs=inputs, outputs=outputs, name=\"LSTM\")\n",
    "\n",
    "# Create the optimiser\n",
    "optimiser = tf.keras.optimizers.Adam(lr=params['learning_rate'])\n",
    "\n",
    "model.compile(optimizer=optimiser, loss=\"binary_crossentropy\", metrics=[\"accuracy\"])\n",
    "model.summary()"
   ]
  },
  {
   "cell_type": "markdown",
   "metadata": {},
   "source": [
    "### Train and evaluate the model\n",
    "\n",
    "Train the model as before, but use `model.evaluate()` to get a test set accuracy and log that with Comet. We will also log the confusion matrix so that it can be viewed in the experiment on Comet.\n",
    "\n",
    "Once training and evaluation is complete the experiment should be visible on Comet ML. You can create graphs (Panels) to display results accross multiple experiments. You can also view the results of each individual experiment."
   ]
  },
  {
   "cell_type": "code",
   "execution_count": 10,
   "metadata": {},
   "outputs": [
    {
     "name": "stdout",
     "output_type": "stream",
     "text": [
      "Epoch 1/10\n",
      "313/313 [==============================] - 145s 462ms/step - loss: 0.6955 - accuracy: 0.5042 - val_loss: 0.6926 - val_accuracy: 0.5020\n",
      "Epoch 2/10\n",
      "313/313 [==============================] - 219s 703ms/step - loss: 0.6920 - accuracy: 0.5118 - val_loss: 0.6917 - val_accuracy: 0.5076\n",
      "Epoch 3/10\n",
      "313/313 [==============================] - 87s 275ms/step - loss: 0.6924 - accuracy: 0.5053 - val_loss: 0.6922 - val_accuracy: 0.5061\n",
      "Epoch 4/10\n",
      "313/313 [==============================] - 60s 193ms/step - loss: 0.6911 - accuracy: 0.5134 - val_loss: 0.6873 - val_accuracy: 0.5151\n",
      "Epoch 5/10\n",
      "313/313 [==============================] - 54s 172ms/step - loss: 0.6736 - accuracy: 0.5455 - val_loss: 0.4957 - val_accuracy: 0.7666\n",
      "Epoch 6/10\n",
      "313/313 [==============================] - 43s 139ms/step - loss: 0.4859 - accuracy: 0.7763 - val_loss: 0.3976 - val_accuracy: 0.8205\n",
      "Epoch 7/10\n",
      "313/313 [==============================] - 65s 208ms/step - loss: 0.3803 - accuracy: 0.8369 - val_loss: 0.3573 - val_accuracy: 0.8417\n",
      "Epoch 8/10\n",
      "313/313 [==============================] - 42s 133ms/step - loss: 0.3242 - accuracy: 0.8653 - val_loss: 0.3446 - val_accuracy: 0.8493\n",
      "Epoch 9/10\n",
      "313/313 [==============================] - 53s 168ms/step - loss: 0.2832 - accuracy: 0.8850 - val_loss: 0.3392 - val_accuracy: 0.8494\n",
      "Epoch 10/10\n",
      "313/313 [==============================] - 55s 175ms/step - loss: 0.2433 - accuracy: 0.9035 - val_loss: 0.3842 - val_accuracy: 0.8437\n",
      "Validation Accuracy: 0.844\n",
      "4/4 [==============================] - 0s 13ms/step - loss: 0.6431 - accuracy: 0.7200\n",
      "Test Accuracy: 0.72\n"
     ]
    },
    {
     "data": {
      "image/png": "[encoded data removed]",
      "text/plain": [
       "<Figure size 640x480 with 1 Axes>"
      ]
     },
     "metadata": {},
     "output_type": "display_data"
    },
    {
     "name": "stderr",
     "output_type": "stream",
     "text": [
      "COMET INFO: ---------------------------\n",
      "COMET INFO: Comet.ml Experiment Summary\n",
      "COMET INFO: ---------------------------\n",
      "COMET INFO:   Data:\n",
      "COMET INFO:     display_summary_level : 1\n",
      "COMET INFO:     url                   : https://www.comet.com/nathanduran/general/f4de6a0fc25442feb384d2522a36f59c\n",
      "COMET INFO:   Metrics [count] (min, max):\n",
      "COMET INFO:     accuracy [10]                : (0.5045750141143799, 0.9006749987602234)\n",
      "COMET INFO:     batch_accuracy [320]         : (0.421875, 0.9112215638160706)\n",
      "COMET INFO:     batch_loss [320]             : (0.23388151824474335, 0.7068315744400024)\n",
      "COMET INFO:     epoch_duration [10]          : (41.54600000008941, 219.34400000004098)\n",
      "COMET INFO:     loss [10]                    : (0.24950693547725677, 0.6938596963882446)\n",
      "COMET INFO:     test_accuracy                : 0.7200000286102295\n",
      "COMET INFO:     val_accuracy [10]            : (0.5019999742507935, 0.849399983882904)\n",
      "COMET INFO:     val_loss [10]                : (0.339186429977417, 0.6925872564315796)\n",
      "COMET INFO:     validate_batch_accuracy [80] : (0.4765625, 0.8671875)\n",
      "COMET INFO:     validate_batch_loss [80]     : (0.27697989344596863, 0.6983223557472229)\n",
      "COMET INFO:   Others:\n",
      "COMET INFO:     Name             : lstm\n",
      "COMET INFO:     trainable_params : 823809\n",
      "COMET INFO:   Parameters:\n",
      "COMET INFO:     Adam_amsgrad       : False\n",
      "COMET INFO:     Adam_beta_1        : 0.9\n",
      "COMET INFO:     Adam_beta_2        : 0.999\n",
      "COMET INFO:     Adam_decay         : 0.0\n",
      "COMET INFO:     Adam_epsilon       : 1e-07\n",
      "COMET INFO:     Adam_learning_rate : 0.001\n",
      "COMET INFO:     Adam_name          : Adam\n",
      "COMET INFO:     Optimizer          : Adam\n",
      "COMET INFO:     batch_size         : 128\n",
      "COMET INFO:     dense_units        : 32\n",
      "COMET INFO:     dropout            : 0.2\n",
      "COMET INFO:     epochs             : 10\n",
      "COMET INFO:     learning_rate      : 0.001\n",
      "COMET INFO:     lstm_units         : 128\n",
      "COMET INFO:     max_seq_len        : 100\n",
      "COMET INFO:     optimizer          : adam\n",
      "COMET INFO:     steps              : 313\n",
      "COMET INFO:   Uploads:\n",
      "COMET INFO:     confusion-matrix         : 1\n",
      "COMET INFO:     environment details      : 1\n",
      "COMET INFO:     filename                 : 1\n",
      "COMET INFO:     git metadata             : 1\n",
      "COMET INFO:     git-patch (uncompressed) : 1 (53.18 KB)\n",
      "COMET INFO:     installed packages       : 1\n",
      "COMET INFO:     model graph              : 1\n",
      "COMET INFO:     notebook                 : 1\n",
      "COMET INFO:     source_code              : 1\n",
      "COMET INFO: ---------------------------\n",
      "COMET INFO: Uploading 1 metrics, params and output messages\n"
     ]
    }
   ],
   "source": [
    "# Fit the model\n",
    "results = model.fit(X_train, y_train, epochs=params['epochs'], batch_size=params['batch_size'], validation_data=(X_val, y_val))\n",
    "print(\"Validation Accuracy:\", round(results.history[\"val_accuracy\"][-1], 3))\n",
    "\n",
    "# Evaluate the model\n",
    "test_loss, test_acc = model.evaluate(X_test, y_test)\n",
    "print('Test Accuracy:', round(test_acc, 3))\n",
    "experiment.log_metric(\"test_accuracy\", test_acc)\n",
    "\n",
    "# Predict class labels for test set\n",
    "predictions = model.predict(X_test)\n",
    "predictions = [0 if x < 0.5 else 1 for x in predictions] # Convert probabilities to binary\n",
    "\n",
    "# Print/log confusion matrix\n",
    "conf_matrix = ConfusionMatrixDisplay.from_predictions(y_test, predictions, display_labels=['negative', 'positive'], colorbar=False)\n",
    "plt.show()\n",
    "experiment.log_confusion_matrix(y_test, predictions, labels=['negative', 'positive'])\n",
    "\n",
    "# End the experiment\n",
    "experiment.end()"
   ]
  },
  {
   "cell_type": "markdown",
   "metadata": {},
   "source": [
    "## 2.3 Exercise: Comet experiments and different parameters\n",
    "\n",
    "So far we have only recorded a single experiment on Comet which uses the parameters we have already defined. Try exploring some configurations parameters to see if you can improve upon the accuracy achieved so far.\n",
    "\n",
    "1. You should be able to provide access to a Comet project for all members of the group, so that everyone can log experiments. Individually you could each explore the impact of different experiment parameters and then use Comet to compare results e.g. one person explores sequence lengths, another model hyperparameters, optimisers and learning rates and so on.\n",
    "\n",
    "2. Experiment with the panels and other visualisation options that are available on Comet to display your results."
   ]
  },
  {
   "cell_type": "markdown",
   "metadata": {},
   "source": [
    "## 2.4 Exercise: RNN architectures\n",
    "\n",
    "As discussed in the lecture, there are several different architectural variations of RNN models, such as Bi-directional and stacked layers. Try experimenting with a few different architectures and evaluate the impact on classification accuracy.\n",
    "\n",
    "1. A good first step might be to take output from *each* timestep (`return_sequences=True`), rather than the last only. You will need an additional pooling layer to perform dimensionality reduction on the RNN outputs so that they are compatible with the later classification layers.\n",
    "\n",
    "2. Use the Keras [Bi-directional layer](https://www.tensorflow.org/api_docs/python/tf/keras/layers/Bidirectional) to convert the uni-directional LSTM into bi-directional.\n",
    "\n",
    "3. Try stacking two LSTM layers. The first will need to output sequences, which become the inputs for the second layer. Then you can either take the last hidden state as output (as we did before), or pool the sequence of outputs, as in step 1."
   ]
  }
 ],
 "metadata": {
  "kernelspec": {
   "display_name": "Python 3 (ipykernel)",
   "language": "python",
   "name": "python3"
  },
  "language_info": {
   "codemirror_mode": {
    "name": "ipython",
    "version": 3
   },
   "file_extension": ".py",
   "mimetype": "text/x-python",
   "name": "python",
   "nbconvert_exporter": "python",
   "pygments_lexer": "ipython3",
   "version": "3.10.8"
  },
  "vscode": {
   "interpreter": {
    "hash": "eda59365f9d652723e3bcf67739b9100ac1f6ab6ddfa121c8653940903b971a2"
   }
  }
 },
 "nbformat": 4,
 "nbformat_minor": 4
}
