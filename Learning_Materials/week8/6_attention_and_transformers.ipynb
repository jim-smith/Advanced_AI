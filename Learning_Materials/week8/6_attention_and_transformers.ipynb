{
 "cells": [
  {
   "cell_type": "markdown",
   "metadata": {},
   "source": [
    "# Practical 6: Attention and Transformers\n",
    "\n",
    "A typical Seq2seq model is limited by fixed size input and output vectors. For many tasks, such as Machine Translation (MT), text summarisation and generating text with a language model, we may wish to output different size sequences. The performance of Seq2seq models may also be limited by the single fixed-size context vector produced by the encoder, which reduces the amount of information passed to the decoder. The attention mechanism aims to solve these issues. Instead of encoding a single context vector the encoder produces a *sequence* of vectors, one for each timestep of the input. The attention mechanism then allows the decoder to 'pay attention' to the important important inputs and ignore less important ones.\n",
    "\n",
    "Although attention mechanisms often result in a significant performance boost on many task, the recurrent nature of Seq2seq architecture means it is slow to train. To overcome this issue Vaswani, A. et al. (2017) proposed a new architecture, the Transformer, which throws away recurrence and focuses only on attention. [Attention is all you need!](https://proceedings.neurips.cc/paper/2017/file/3f5ee243547dee91fbd053c1c4a845aa-Paper.pdf). Transformers have since become the basis for nearly all state-of-the-art models for language modelling, classification, MT, summarisation and many other NLP tasks.\n",
    "\n",
    "In the first part of this practical we will create a Seq2seq model with attention for MT. The MT model will be trained to translate English sentences into French with an [English to French](http://www.manythings.org/anki/) dataset. Once trained, we will be able to translate English phrases and visualise the weights of the attention mechanism to understand which English words were 'attended to' in order to produce the translation.\n",
    "\n",
    "In the second part of this practical we will create a Transformer-based translator by fine-tuning an existing model, the [T5](https://arxiv.org/abs/1910.10683v3), on our translation dataset.\n",
    "\n",
    "The objectives of this practical are:\n",
    "1. Understand how Seq2seq architecture and attention mechanisms work, and help the model to identify the important features of input sequences\n",
    "\n",
    "2. Introduce a new ML library, Hugging Face 🤗 Transformers that is usefull for building and fine-tuning large Transformer models\n",
    "\n",
    "3. Compare and contrast recurrent Seq2seq with attention to a transfer learning approach using a large pre-trained language model (T5), based on Transformer architecture, for MT"
   ]
  },
  {
   "cell_type": "markdown",
   "metadata": {},
   "source": [
    "# 1 Translation with Seq2Seq and Attention\n",
    "\n",
    "## 1.0 Import libraries"
   ]
  },
  {
   "cell_type": "code",
   "execution_count": 1,
   "metadata": {
    "tags": []
   },
   "outputs": [
    {
     "ename": "ModuleNotFoundError",
     "evalue": "No module named 'nltk'",
     "output_type": "error",
     "traceback": [
      "\u001b[0;31m---------------------------------------------------------------------------\u001b[0m",
      "\u001b[0;31mModuleNotFoundError\u001b[0m                       Traceback (most recent call last)",
      "Cell \u001b[0;32mIn[1], line 11\u001b[0m\n\u001b[1;32m      9\u001b[0m \u001b[38;5;28;01mimport\u001b[39;00m \u001b[38;5;21;01mtensorflow\u001b[39;00m \u001b[38;5;28;01mas\u001b[39;00m \u001b[38;5;21;01mtf\u001b[39;00m\n\u001b[1;32m     10\u001b[0m \u001b[38;5;28;01mfrom\u001b[39;00m \u001b[38;5;21;01mcollections\u001b[39;00m \u001b[38;5;28;01mimport\u001b[39;00m Counter\n\u001b[0;32m---> 11\u001b[0m \u001b[38;5;28;01mfrom\u001b[39;00m \u001b[38;5;21;01mnltk\u001b[39;00m\u001b[38;5;21;01m.\u001b[39;00m\u001b[38;5;21;01mtranslate\u001b[39;00m\u001b[38;5;21;01m.\u001b[39;00m\u001b[38;5;21;01mbleu_score\u001b[39;00m \u001b[38;5;28;01mimport\u001b[39;00m corpus_bleu, SmoothingFunction\n\u001b[1;32m     12\u001b[0m \u001b[38;5;28;01mfrom\u001b[39;00m \u001b[38;5;21;01mnltk\u001b[39;00m\u001b[38;5;21;01m.\u001b[39;00m\u001b[38;5;21;01mtranslate\u001b[39;00m \u001b[38;5;28;01mimport\u001b[39;00m meteor, meteor_score\n\u001b[1;32m     13\u001b[0m \u001b[38;5;28;01mfrom\u001b[39;00m \u001b[38;5;21;01mtensorflow\u001b[39;00m\u001b[38;5;21;01m.\u001b[39;00m\u001b[38;5;21;01mkeras\u001b[39;00m \u001b[38;5;28;01mimport\u001b[39;00m models, layers\n",
      "\u001b[0;31mModuleNotFoundError\u001b[0m: No module named 'nltk'"
     ]
    }
   ],
   "source": [
    "import os\n",
    "import re\n",
    "import unicodedata\n",
    "import numpy as np\n",
    "import pandas as pd\n",
    "import matplotlib.pyplot as plt\n",
    "import matplotlib.ticker as ticker\n",
    "import seaborn as sns\n",
    "import tensorflow as tf\n",
    "from collections import Counter\n",
    "from nltk.translate.bleu_score import corpus_bleu, SmoothingFunction\n",
    "from nltk.translate import meteor, meteor_score\n",
    "from tensorflow.keras import models, layers\n",
    "from tensorflow.keras.preprocessing.sequence import pad_sequences\n",
    "from sklearn.model_selection import train_test_split\n",
    "%matplotlib inline\n",
    "\n",
    "# Set the directory to the data folder\n",
    "data_dir = os.path.join('..', 'datasets', 'translate')"
   ]
  },
  {
   "cell_type": "markdown",
   "metadata": {},
   "source": [
    "## 1.1 Load and pre-process data\n",
    "\n",
    "The data directory should contain the English and French text file. We will simply loop over the file and separate the English and French phrases. Then perform some simple normalisation by removing accents from the french words and keeping only basic punctuation symbols (.,!? and '), and then tokenise and remove extra whitespace.\n",
    "\n",
    "<div class = \"alert alert-block alert-info\"><b>Note:</b> This dataset contains ~200K sentence pairs, which would take a very long time to train and evaluate. So, we will limit our data to the first 100k sentences.</div>"
   ]
  },
  {
   "cell_type": "code",
   "execution_count": null,
   "metadata": {
    "tags": []
   },
   "outputs": [],
   "source": [
    "def preprocess_sentence(sentence):\n",
    "    # Remove accents\n",
    "    sentence = unicodedata.normalize('NFD', sentence).encode('ascii', 'ignore')\n",
    "    # Convert back to unicode\n",
    "    sentence = sentence.decode('UTF-8')\n",
    "\n",
    "    # Replace everything with space except (a-z, A-Z, \".\", \"?\", \"!\", \"'\", \",\")\n",
    "    sentence = re.sub(r\"[^a-zA-Z?.!',¿]+\", \" \", sentence)\n",
    "\n",
    "    # Create a space between word and the punctuation following it\n",
    "    sentence = re.sub(r\"([?.!,¿])\", r\" \\1 \", sentence)\n",
    "\n",
    "    # Lowercase and remove leading/trailing spaces\n",
    "    sentence = sentence.lower().strip()\n",
    "\n",
    "    # Tokenize\n",
    "    tokens = sentence.split()\n",
    "\n",
    "    return tokens\n",
    "\n",
    "# Preprocess the English and French sentences\n",
    "eng_corpus = []\n",
    "fr_corpus = []\n",
    "with open(os.path.join(data_dir, 'eng-fr.txt'), 'r', encoding='utf-8') as file:\n",
    "    text = file.read().splitlines()\n",
    "\n",
    "    for line in text[:100000]:\n",
    "        # Split the line into English and French\n",
    "        line = line.split('\\t')\n",
    "\n",
    "        # Add to corpus\n",
    "        eng_corpus.append(preprocess_sentence(line[0]))\n",
    "        fr_corpus.append(preprocess_sentence(line[1]))\n",
    "\n",
    "print('Number of English sentences: ' + str(len(eng_corpus)))\n",
    "print('Number of French sentences: ' + str(len(fr_corpus)))\n",
    "print('First 5 sentences: ')\n",
    "for i in range(5):\n",
    "    print(' '.join(eng_corpus[i]) + ' -> ' + ' '.join(fr_corpus[i]))"
   ]
  },
  {
   "cell_type": "markdown",
   "metadata": {},
   "source": [
    "We can plot the distribution of sentence lengths to determin how long the input sequences should be."
   ]
  },
  {
   "cell_type": "code",
   "execution_count": null,
   "metadata": {},
   "outputs": [],
   "source": [
    "# Plot the distribution of sentence lengths\n",
    "eng_seq_lengths = [len(sent) for sent in eng_corpus]\n",
    "fr_seq_lengths = [len(sent) for sent in fr_corpus]\n",
    "print(\"Longest English sentence: \" + str(max(eng_seq_lengths)))\n",
    "print(\"Longest French sentence: \" + str(max(fr_seq_lengths)))\n",
    "\n",
    "df = pd.DataFrame({'English': eng_seq_lengths, 'French': fr_seq_lengths})\n",
    "df = df.melt(var_name='Language', value_name='Sentence Length')\n",
    "sns.displot(df, x='Sentence Length', hue='Language', kind='hist', palette='tab10', height=5, aspect=2)\n",
    "plt.show()"
   ]
  },
  {
   "cell_type": "markdown",
   "metadata": {},
   "source": [
    "### Build a vocabulary\n",
    "\n",
    "Create a vocabulary for both English and French. As with language modelling, increasing the vocabulary size greatly increases the complexity of the task, because each output prediction is a word from the vocabulary. However, if either vocabulary is too small the model will not be able to learn a complete mapping between the words, so we will keep all words in the vocabulary."
   ]
  },
  {
   "cell_type": "code",
   "execution_count": 5,
   "metadata": {},
   "outputs": [
    {
     "name": "stdout",
     "output_type": "stream",
     "text": [
      "English vocabulary size: 9143\n",
      "(0, <pad>) (1, <unk>) (2, <s>) (3, </s>) (4, .) (5, i) (6, you) (7, ?) (8, a) (9, to) (10, the) (11, tom) (12, is) (13, it) (14, do) (15, that) (16, this) (17, me) (18, i'm) (19, he) (20, are) (21, don't) (22, have) (23, was) (24, we) (25, my) (26, your) (27, of) (28, not) (29, what) (30, you're) (31, be) (32, in) (33, did) (34, like) (35, can) (36, all) (37, they) (38, want) (39, for) (40, it's) (41, she) (42, know) (43, go) (44, on) (45, ,) (46, very) (47, how) (48, here) (49, no) \n",
      "French vocabulary size: 16789\n",
      "(0, <pad>) (1, <unk>) (2, <s>) (3, </s>) (4, .) (5, je) (6, ?) (7, vous) (8, a) (9, pas) (10, de) (11, tom) (12, ne) (13, est) (14, tu) (15, le) (16, il) (17, que) (18, la) (19, nous) (20, ce) (21, un) (22, !) (23, suis) (24, j'ai) (25, c'est) (26, une) (27, en) (28, me) (29, les) (30, ca) (31, ,) (32, moi) (33, elle) (34, etes) (35, faire) (36, tout) (37, te) (38, fait) (39, sont) (40, qui) (41, pour) (42, mon) (43, n'est) (44, ils) (45, veux) (46, es) (47, des) (48, tres) (49, du) "
     ]
    }
   ],
   "source": [
    "def create_vocabulary(corpus, vocab_size=None, min_freq=1, special_tokens=None):\n",
    "\n",
    "    # Count the frequency of each token in the corpus\n",
    "    word_counter = Counter()\n",
    "    for sent in corpus:\n",
    "        word_counter.update(sent)\n",
    "\n",
    "    if min_freq > 1:\n",
    "        # Remove tokens that occur less than min_freq times\n",
    "        word_counter =  Counter({word: count for word, count in word_counter.items() if count >= min_freq})\n",
    "\n",
    "    # Create a vocabulary\n",
    "    vocab = []\n",
    "    vocab_size = len(word_counter) if vocab_size is None else vocab_size\n",
    "\n",
    "    # Add the special tokens to the vocabulary\n",
    "    if special_tokens and isinstance(special_tokens, list):\n",
    "        vocab.extend(special_tokens)\n",
    "    else:\n",
    "        special_tokens = []\n",
    "\n",
    "    # Add the vocab_size most common tokens to the vocabulary\n",
    "    vocab.extend([word for word, count in word_counter.most_common(vocab_size - len(special_tokens))])\n",
    "\n",
    "    return vocab\n",
    "\n",
    "# Create a vocabulary\n",
    "eng_vocab = create_vocabulary(eng_corpus, vocab_size=None, min_freq=1, special_tokens=['<pad>', '<unk>', '<s>', '</s>'])\n",
    "fr_vocab = create_vocabulary(fr_corpus, vocab_size=None, min_freq=1, special_tokens=['<pad>', '<unk>', '<s>', '</s>'])\n",
    "\n",
    "# Print the vocabulary\n",
    "print(\"English vocabulary size: \" + str(len(eng_vocab)))\n",
    "for i, word in enumerate(eng_vocab[:50]):\n",
    "    print(f'({str(i)}, {word})', end=' ')\n",
    "print()\n",
    "print(\"French vocabulary size: \" + str(len(fr_vocab)))\n",
    "for i, word in enumerate(fr_vocab[:50]):\n",
    "    print(f'({str(i)}, {word})', end=' ')"
   ]
  },
  {
   "cell_type": "markdown",
   "metadata": {},
   "source": [
    "## 1.2 Create a data generator\n",
    "\n",
    "As with language modelling, the number of inputs required for training is larger than the number of phrase pairs in the data, so we will use a Generator class to feed data into the model. For each input/output pair we need to generate:\n",
    "\n",
    "1. Encoder inputs, the English phrase\n",
    "\n",
    "2. Decoder inputs, the French phrase including the `<s>` token, but not including the `</s>` token (so the decoder has the context vector(s) and a token to start generating from)\n",
    "\n",
    "3. Decoder outputs, the French phrase including the `</s>` token, but not including the `<s>` token (so the decoder learns to generate output untill the `</s>` token is reached)\n",
    "\n",
    "<div class = \"alert alert-block alert-info\"><b>Note:</b> We could perform all pre-processing within the data generator, such as tokenisation and lowercasing. However, for simplicity and to allow the creation of a vocabulary, here we only preform the step which greatly increase memory requirements.</div>"
   ]
  },
  {
   "cell_type": "code",
   "execution_count": 6,
   "metadata": {},
   "outputs": [
    {
     "name": "stdout",
     "output_type": "stream",
     "text": [
      "Number of training batches: 625\n",
      "Number of validation batches: 157\n",
      "(128, 20)\n",
      "(128, 20)\n",
      "(128, 20)\n",
      "Input Sentence: <s> i really missed you . </s> <pad> <pad> <pad> <pad> <pad> <pad> <pad> <pad> <pad> <pad> <pad> <pad> <pad>\n",
      "Input Vector: [  2   5  80 507   6   4   3   0   0   0   0   0   0   0   0   0   0   0\n",
      "   0   0]\n",
      "Target Sentence: tu m'as vraiment manque . </s> <pad> <pad> <pad> <pad> <pad> <pad> <pad> <pad> <pad> <pad> <pad> <pad> <pad> <pad>\n",
      "Target Vector: [ 14 545  81 384   4   3   0   0   0   0   0   0   0   0   0   0   0   0\n",
      "   0   0]\n",
      "\n",
      "Input Sentence: <s> hug me tight . </s> <pad> <pad> <pad> <pad> <pad> <pad> <pad> <pad> <pad> <pad> <pad> <pad> <pad> <pad>\n",
      "Input Vector: [   2 1002   17  923    4    3    0    0    0    0    0    0    0    0\n",
      "    0    0    0    0    0    0]\n",
      "Target Sentence: serrez moi bien fort . </s> <pad> <pad> <pad> <pad> <pad> <pad> <pad> <pad> <pad> <pad> <pad> <pad> <pad> <pad>\n",
      "Target Vector: [2771   32   74  182    4    3    0    0    0    0    0    0    0    0\n",
      "    0    0    0    0    0    0]\n",
      "\n",
      "Input Sentence: <s> i freaked out . </s> <pad> <pad> <pad> <pad> <pad> <pad> <pad> <pad> <pad> <pad> <pad> <pad> <pad> <pad>\n",
      "Input Vector: [   2    5 2650   65    4    3    0    0    0    0    0    0    0    0\n",
      "    0    0    0    0    0    0]\n",
      "Target Sentence: j'ai flippe . </s> <pad> <pad> <pad> <pad> <pad> <pad> <pad> <pad> <pad> <pad> <pad> <pad> <pad> <pad> <pad> <pad>\n",
      "Target Vector: [  24 6444    4    3    0    0    0    0    0    0    0    0    0    0\n",
      "    0    0    0    0    0    0]\n",
      "\n"
     ]
    }
   ],
   "source": [
    "class MTDataGenerator(tf.keras.utils.Sequence):\n",
    "    \"\"\"Custom data generator for machine translation.\"\"\"\n",
    "\n",
    "    def __init__(self, in_data, out_data, in_vocab, out_vocab, max_seq_len, batch_size, shuffle=True):\n",
    "        \n",
    "        self.in_data = in_data\n",
    "        self.out_data = out_data\n",
    "        self.in_vocab = in_vocab\n",
    "        self.out_vocab = out_vocab\n",
    "\n",
    "        self.max_seq_len = max_seq_len\n",
    "        self.batch_size = batch_size\n",
    "        self.shuffle = shuffle\n",
    "\n",
    "        # Get the data indexes and shuffle\n",
    "        self.indexes = np.arange(len(self.in_data))\n",
    "        self.on_epoch_end()\n",
    "    \n",
    "    def on_epoch_end(self):\n",
    "        \"\"\"Updates data after each epoch. Currently only shuffles data if shuffle=True.\"\"\"\n",
    "        if self.shuffle:\n",
    "            np.random.shuffle(self.indexes)\n",
    "        \n",
    "    def __len__(self):\n",
    "        \"\"\"Calculates the number of batches per epoch (num_sent / batch_size).\"\"\"\n",
    "        return int(np.ceil(len(self.in_data) / self.batch_size))\n",
    "\n",
    "    def __getitem__(self, index):\n",
    "        \"\"\"Generates a batch of data.\"\"\"\n",
    "\n",
    "        # Generate batch of inputs and outputs\n",
    "        batch_enc_inputs, batch_dec_inputs, batch_outputs = [], [], []\n",
    "\n",
    "        # Generate indexes of the batch\n",
    "        batch_indexes = self.indexes[index * self.batch_size:(index + 1) * self.batch_size]\n",
    "\n",
    "        for ind in batch_indexes:\n",
    "\n",
    "            # Get the sentence\n",
    "            in_sent = self.in_data[ind]\n",
    "            out_sent = self.out_data[ind]\n",
    "            \n",
    "            # Vectorise the sentences\n",
    "            in_sent_vector = [self.in_vocab.index(word) if word in self.in_vocab else self.in_vocab.index('<unk>') for word in in_sent]\n",
    "            out_sent_vector = [self.out_vocab.index(word) if word in self.out_vocab else self.out_vocab.index('<unk>') for word in out_sent]\n",
    "\n",
    "            # Add the start and end tokens\n",
    "            in_sent_vector = [self.in_vocab.index('<s>')] + in_sent_vector + [self.in_vocab.index('</s>')]\n",
    "            out_sent_vector = [self.out_vocab.index('<s>')] + out_sent_vector + [self.out_vocab.index('</s>')]\n",
    "\n",
    "            # Add the sentences to the batch\n",
    "            batch_enc_inputs.append(in_sent_vector)\n",
    "            batch_dec_inputs.append(out_sent_vector[:-1])\n",
    "            batch_outputs.append(out_sent_vector[1:])\n",
    "\n",
    "        # Pad the sentences to the max_seq_len\n",
    "        batch_enc_inputs = pad_sequences(batch_enc_inputs, maxlen=self.max_seq_len, padding='post', truncating='post', value=0.0)\n",
    "        batch_dec_inputs = pad_sequences(batch_dec_inputs, maxlen=self.max_seq_len, padding='post', truncating='post', value=0.0)\n",
    "        batch_outputs = pad_sequences(batch_outputs, maxlen=self.max_seq_len, padding='post', truncating='post', value=0.0)\n",
    "\n",
    "        # Conver input/outputs to numpy arrays\n",
    "        batch_enc_inputs = np.array(batch_enc_inputs)\n",
    "        batch_dec_inputs = np.array(batch_dec_inputs)\n",
    "        batch_outputs = np.array(batch_outputs)\n",
    "\n",
    "        return (batch_enc_inputs, batch_dec_inputs), batch_outputs\n",
    "\n",
    "# Set the maximum sequence length and batch size\n",
    "max_seq_len = 20\n",
    "batch_size = 128\n",
    "\n",
    "# Create a train and validation set data generator\n",
    "eng_train, eng_val, fr_train, fr_val = train_test_split(eng_corpus, fr_corpus, test_size=0.2, random_state=42)\n",
    "train_generator = MTDataGenerator(eng_train, fr_train, eng_vocab, fr_vocab, max_seq_len=max_seq_len, batch_size=batch_size)\n",
    "val_generator = MTDataGenerator(eng_val, fr_val, eng_vocab, fr_vocab, max_seq_len=max_seq_len, batch_size=batch_size)\n",
    "\n",
    "# Print the number of batches\n",
    "print('Number of training batches: ' + str(len(train_generator)))\n",
    "print('Number of validation batches: ' + str(len(val_generator)))\n",
    "\n",
    "# Print the first examples\n",
    "inputs, outputs = train_generator[0]\n",
    "enc_inputs, dec_inputs = inputs\n",
    "\n",
    "print(enc_inputs.shape)\n",
    "print(dec_inputs.shape)\n",
    "print(outputs.shape)\n",
    "for i in range(3):\n",
    "    print('Input Sentence: ' + ' '.join([eng_vocab[word] for word in enc_inputs[i]]))\n",
    "    print('Input Vector: ' + str(enc_inputs[i]))\n",
    "    print('Target Sentence: ' + ' '.join([fr_vocab[word] for word in outputs[i]]))\n",
    "    print('Target Vector: ' + str(outputs[i]))\n",
    "    print()"
   ]
  },
  {
   "cell_type": "markdown",
   "metadata": {},
   "source": [
    "## 1.3 Build the Seq2Seq with Attention Model\n",
    "\n",
    "The following cells define a Seq2Seq model which uses GRU recurrent layers and an attention mechanism. Both the attention mechanism and Seq2Seq make use of subclassing, which allows us to define our own layers and model classes that inherit the behaviour of the built-in Keras layers and models.\n",
    "\n",
    "The `BahdanauAttention` class below implements (additive) Bahdanau style attention as a Keras layer. Attention is calculated for all inputs in a batch within the `call()` method:\n",
    "\n",
    "1. The score is calculated with $V.tahn(W_1.h + W_2.s)$\n",
    "\n",
    "2. The attention weights ($a$) are calculated by softmaxing the score\n",
    "\n",
    "3. The context vector is then $\\sum_{i=1}^{n}a.h$\n",
    "\n",
    "Take some time to understand what the `BahdanauAttention` class below is doing. Particularly the `call()` method."
   ]
  },
  {
   "cell_type": "code",
   "execution_count": 7,
   "metadata": {},
   "outputs": [],
   "source": [
    "# Attention Mechanism\n",
    "class BahdanauAttention(tf.keras.layers.Layer):\n",
    "\n",
    "  def __init__(self, units):\n",
    "    super(BahdanauAttention, self).__init__(name='BahdanauAttention')\n",
    "    \n",
    "    # Define the layers\n",
    "    self.W1 = tf.keras.layers.Dense(units)\n",
    "    self.W2 = tf.keras.layers.Dense(units)\n",
    "    self.V = tf.keras.layers.Dense(1)\n",
    "\n",
    "  def call(self, query, values):\n",
    "    # Query is the decoder hidden state shape=(batch_size, hidden_size)\n",
    "    # Values is the encoder output shape=(batch_size, max_seq_len, hidden_size)\n",
    "\n",
    "    # Expand for time dimension shape=(batch_size, 1, hidden_size)\n",
    "    query_with_time_axis = tf.expand_dims(query, 1)\n",
    "\n",
    "    # Calculate score shape=(batch_size, max_length, 1)\n",
    "    score = self.V(tf.nn.tanh(self.W1(query_with_time_axis) + self.W2(values)))\n",
    "\n",
    "    # Attention weights shape=(batch_size, max_length, 1)\n",
    "    attention_weights = tf.nn.softmax(score, axis=1)\n",
    "\n",
    "    # Context vector shape=(batch_size, hidden_size)\n",
    "    context_vector = attention_weights * values\n",
    "    context_vector = tf.reduce_sum(context_vector, axis=1)\n",
    "\n",
    "    return context_vector, attention_weights"
   ]
  },
  {
   "cell_type": "markdown",
   "metadata": {},
   "source": [
    "The `Translator` class below implements Seq2Seq with attention as a Keras model. The algorithm is implemented within the `call()` method:\n",
    "\n",
    "1. First the inputs are encoded with the encoder layers\n",
    "\n",
    "2. Then, for each timestep ($t$) decode the sequence:\n",
    "    \n",
    "    1. Calculate the context vector by applying attention to the current decoder state and encoder outputs\n",
    "\n",
    "    2. Concatentate the context vector and decoder inputs, and pass to the decoder\n",
    "\n",
    "    3. Generate the predicted token from the decoder outputs\n",
    "\n",
    "<div class = \"alert alert-block alert-info\"><b>Note:</b> During training the model uses teacher forcing, which, regardless of the predicted token, adds the actual (ground truth) token to the decoder inputs at each timestep. This is, of course, not valid during evaluation/inference, where the predicted token is appended to the decoder input for the next timestep.</div>\n",
    "\n",
    "The remaining functions are utility functions for generating translations with a trained model:\n",
    "\n",
    "1. `single_predict()` applies the same training loop defined in `call()`, but also returns the attention weights (this would not work with the `fit()` method)\n",
    "\n",
    "2. `translate()` takes a sentence (string) as input, applies the necessary pre-processing, and generates a predicted output sentence as well as an attention plot from the attention weights\n",
    "\n",
    "3. `plot_attention()` generates a heatmap from the attention weights, which shows their magnitude with respect to each input/output token in the processed sequence\n",
    "\n",
    "Take some time to understand what the `Translator` class below is doing. Particularly the `call()` and `translate()` methods."
   ]
  },
  {
   "cell_type": "code",
   "execution_count": 9,
   "metadata": {},
   "outputs": [
    {
     "name": "stdout",
     "output_type": "stream",
     "text": [
      "Model: \"seq2seq_attn\"\n",
      "__________________________________________________________________________________________________\n",
      "Layer (type)                    Output Shape         Param #     Connected to                     \n",
      "==================================================================================================\n",
      "encoder_inputs (InputLayer)     [(None, 20)]         0                                            \n",
      "__________________________________________________________________________________________________\n",
      "decoder_inputs (InputLayer)     [(None, 20)]         0                                            \n",
      "__________________________________________________________________________________________________\n",
      "Translator (Translator)         (None, 20, 16789)    7664770     encoder_inputs[0][0]             \n",
      "                                                                 decoder_inputs[0][0]             \n",
      "==================================================================================================\n",
      "Total params: 7,664,770\n",
      "Trainable params: 7,664,770\n",
      "Non-trainable params: 0\n",
      "__________________________________________________________________________________________________\n"
     ]
    }
   ],
   "source": [
    "class Translator(tf.keras.Model):\n",
    "\n",
    "    def __init__(self, eng_vocab, fr_vocab, max_seq_len, embedding_dim, recurrent_units, attn_units):\n",
    "        super().__init__(name='Translator')\n",
    "\n",
    "        self.eng_vocab = eng_vocab\n",
    "        self.fr_vocab = fr_vocab\n",
    "        self.max_seq_len = max_seq_len\n",
    "        self.embedding_dim = embedding_dim\n",
    "        self.recurrent_units = recurrent_units\n",
    "        self.attn_units = attn_units\n",
    "\n",
    "        # Define the encoder and decoder layers\n",
    "        self.enc_embedding = tf.keras.layers.Embedding(\n",
    "            len(self.eng_vocab),\n",
    "            self.embedding_dim,\n",
    "            mask_zero=True,\n",
    "            name='encoder_embedding')\n",
    "        self.encoder = layers.GRU(self.recurrent_units, return_sequences=True, return_state=True, name='encoder')\n",
    "\n",
    "        self.dec_embedding = tf.keras.layers.Embedding(\n",
    "            len(self.fr_vocab),\n",
    "            self.embedding_dim,\n",
    "            mask_zero=True,\n",
    "            name='decoder_embedding')\n",
    "        self.attention_layer = BahdanauAttention(self.attn_units)\n",
    "        self.decoder= layers.GRU(self.recurrent_units, return_sequences=True, return_state=True, name='decoder')\n",
    "        self.decoder_dense = layers.Dense(len(self.fr_vocab), activation='softmax', name='decoder_dense')\n",
    "\n",
    "\n",
    "    def call(self, inputs, training=False):\n",
    "        # Accumulate the decoder outputs/predictions\n",
    "        all_outputs = []\n",
    "\n",
    "        # Unpack the inputs\n",
    "        encoder_inputs, decoder_inputs = inputs\n",
    "\n",
    "        # Encode the inputs\n",
    "        encoder_outputs = self.enc_embedding(encoder_inputs)\n",
    "        encoder_outputs, encoder_state = self.encoder(encoder_outputs)\n",
    "\n",
    "        # Set the initial decoder state to the encoder state\n",
    "        decoder_state = encoder_state\n",
    "\n",
    "        # Iterate over the decoder inputs one token at a time\n",
    "        for t in range(self.max_seq_len):\n",
    "            # Get the current decoder input\n",
    "            # If training use the next decoder input (teacher forcing)\n",
    "            if training:\n",
    "                decoder_input = decoder_inputs[:, t]\n",
    "            # Else use the predicted decoder input (i.e when using the model for inference)\n",
    "            elif not training and t > 0:\n",
    "                # Squash the output time dimension, shape=(batch_size, vocab_size)\n",
    "                decoder_input = tf.squeeze(tf.argmax(decoder_outputs, axis=-1), axis=1) \n",
    "            # Else set the initial decoder input to the <s> token\n",
    "            elif not training and t == 0:\n",
    "                    current_batch_size = tf.shape(decoder_inputs)[0]\n",
    "                    decoder_input = tf.fill([current_batch_size], self.fr_vocab.index('<s>'))\n",
    "\n",
    "            # Embed the decoder input, shape=(batch_size, 1, embedding_dim)\n",
    "            decoder_input = self.dec_embedding(decoder_input)\n",
    "            decoder_input = tf.expand_dims(decoder_input, axis=1)\n",
    "\n",
    "            # Calculate the context vector and attention weights, shape=(batch_size, 1, attn_units)\n",
    "            context_vector, attention_weights = self.attention_layer(decoder_state, encoder_outputs)\n",
    "            context_vector = tf.expand_dims(context_vector, axis=1)\n",
    "\n",
    "            # Concatenate the context vector and decoder input, shape=(batch_size, 1, embedding_dim + attn_units)\n",
    "            decoder_input = tf.concat([context_vector, decoder_input], axis=-1)\n",
    "\n",
    "            # Pass the concatenated vector to the decoder GRU\n",
    "            decoder_outputs, decoder_state = self.decoder(decoder_input, initial_state=decoder_state)\n",
    "\n",
    "            # Generate the predictions and append to all_outputs shape=(batch_size, 1, vocab_size)\n",
    "            decoder_outputs = self.decoder_dense(decoder_outputs)\n",
    "            all_outputs.append(decoder_outputs)\n",
    "\n",
    "        # Concatenate the outputs, shape=(batch_size, max_seq_len, vocab_size)\n",
    "        outputs = tf.concat(all_outputs, axis=1)\n",
    "        return outputs\n",
    "\n",
    "    def single_predict(self, encoder_inputs):\n",
    "\n",
    "        # Accumulate the decoder outputs/predictions and attention weights\n",
    "        all_outputs = []\n",
    "        attention_weights = []\n",
    "\n",
    "        # Encode the inputs\n",
    "        encoder_outputs = self.enc_embedding(encoder_inputs)\n",
    "        encoder_outputs, encoder_state = self.encoder(encoder_outputs)\n",
    "\n",
    "        # Set the initial decoder state to the encoder state\n",
    "        decoder_state = encoder_state\n",
    "\n",
    "        # Set the initial decoder input to the <s> token\n",
    "        current_batch_size = tf.shape(encoder_inputs)[0]\n",
    "        decoder_input = tf.fill([current_batch_size], self.fr_vocab.index('<s>'))\n",
    "\n",
    "        # Iterate over the decoder inputs one token at a time\n",
    "        for t in range(self.max_seq_len):\n",
    "\n",
    "            # Embed the decoder input, shape=(batch_size, 1, embedding_dim)\n",
    "            decoder_input = self.dec_embedding(decoder_input)\n",
    "            decoder_input = tf.expand_dims(decoder_input, axis=1)\n",
    "\n",
    "            # Calculate the context vector and attention weights, shape=(batch_size, 1, attn_units)\n",
    "            context_vector, curr_attn_weights = self.attention_layer(decoder_state, encoder_outputs)\n",
    "            context_vector = tf.expand_dims(context_vector, axis=1)\n",
    "\n",
    "            # Store the attention weights to plot later on\n",
    "            curr_attn_weights = tf.reshape(curr_attn_weights, (-1, ))\n",
    "            attention_weights.append(curr_attn_weights)\n",
    "\n",
    "            # Concatenate the context vector and decoder input, shape=(batch_size, 1, embedding_dim + attn_units)\n",
    "            decoder_input = tf.concat([context_vector, decoder_input], axis=-1)\n",
    "\n",
    "            # Pass the concatenated vector to the decoder GRU\n",
    "            decoder_outputs, decoder_state = self.decoder(decoder_input, initial_state=decoder_state)\n",
    "\n",
    "            # Generate the predictions and append to all_outputs shape=(batch_size, 1, vocab_size)\n",
    "            decoder_outputs = self.decoder_dense(decoder_outputs)\n",
    "            all_outputs.append(decoder_outputs)\n",
    "\n",
    "            # Squash the output time dimension, shape=(batch_size, vocab_size)\n",
    "            decoder_input = tf.squeeze(tf.argmax(decoder_outputs, axis=-1), axis=1) \n",
    "\n",
    "        # Concatenate the outputs, shape=(batch_size, max_seq_len, vocab_size)\n",
    "        outputs = tf.concat(all_outputs, axis=1)\n",
    "        # Stack the attention weights, shape=(batch_size, max_seq_len, max_seq_len)\n",
    "        attention_weights = tf.stack(attention_weights)\n",
    "        return outputs, attention_weights\n",
    "\n",
    "    # Function to translate a sentence\n",
    "    def translate(self, sentence):\n",
    "\n",
    "        # Preprocess the sentence\n",
    "        tokenised_sentence = ['<s>']  + preprocess_sentence(sentence) + ['</s>']\n",
    "        \n",
    "        # Vectorise and pad the sentence to the max sequence length\n",
    "        encoder_input = [self.eng_vocab.index(word) for word in tokenised_sentence]\n",
    "        encoder_input = tf.keras.preprocessing.sequence.pad_sequences([encoder_input], maxlen=self.max_seq_len, padding='post')\n",
    "\n",
    "        # Generate the predictions and attention weights\n",
    "        predictions, attention_weights = self.single_predict(encoder_input)\n",
    "\n",
    "        # Get the predicted sentence\n",
    "        predicted_ids = tf.argmax(predictions[0], axis=-1).numpy()\n",
    "        predicted_sentence = [self.fr_vocab[i] for i in predicted_ids if self.fr_vocab[i] != '<pad>']\n",
    "\n",
    "        # print('Input: {}'.format(sentence))\n",
    "        # print('Predicted translation: {}'.format(' '.join(predicted_sentence[:-1])))\n",
    "\n",
    "        # Only take the attention weights for the words in the sentence\n",
    "        attention_weights = attention_weights[:len(predicted_sentence), :len(tokenised_sentence)]\n",
    "        # Plot the attention weights\n",
    "        attn_fig = self.plot_attention(attention_weights, tokenised_sentence, predicted_sentence)\n",
    "\n",
    "        return ' '.join(predicted_sentence[:-1]), attn_fig\n",
    "\n",
    "    # Function for plotting the attention weights\n",
    "    def plot_attention(self, attention, sentence, predicted_sentence):\n",
    "\n",
    "        # Plot the attention weights\n",
    "        fig = plt.figure(figsize=(10, 10))\n",
    "        ax = fig.add_subplot(1, 1, 1)\n",
    "        ax.matshow(attention, cmap='viridis')\n",
    "\n",
    "        # Set the x and y ticks (need to discard the first and last for some reason)\n",
    "        yticks_loc = ax.get_yticks().tolist()[1:-1]\n",
    "        ax.yaxis.set_major_locator(ticker.FixedLocator(yticks_loc))\n",
    "        xticks_loc = ax.get_xticks().tolist()[1:-1]\n",
    "        ax.xaxis.set_major_locator(ticker.FixedLocator(xticks_loc))\n",
    "        # ax.xaxis.set_major_locator(ticker.MultipleLocator(1))\n",
    "        # ax.yaxis.set_major_locator(ticker.MultipleLocator(1))\n",
    "\n",
    "        # Set the labels\n",
    "        fontdict = {'fontsize': 14}\n",
    "        ax.set_xticklabels(sentence, fontdict=fontdict, rotation=90)\n",
    "        ax.set_yticklabels(predicted_sentence, fontdict=fontdict)\n",
    "\n",
    "        # plt.show()\n",
    "        return fig\n",
    "\n",
    "# Hyperparameters\n",
    "embedding_dim = 100\n",
    "recurrent_units = 256\n",
    "attn_units = 20\n",
    "\n",
    "# Create the model\n",
    "encoder_inputs = layers.Input(shape=(max_seq_len, ), name='encoder_inputs')\n",
    "decoder_inputs = layers.Input(shape=(max_seq_len, ), name='decoder_inputs')\n",
    "translator = Translator(eng_vocab, fr_vocab, max_seq_len, embedding_dim, recurrent_units, attn_units)\n",
    "outputs = translator((encoder_inputs, decoder_inputs))\n",
    "\n",
    "model = tf.keras.Model(inputs=[encoder_inputs, decoder_inputs], outputs=outputs, name='seq2seq_attn')\n",
    "model.compile(loss='sparse_categorical_crossentropy', optimizer='adam', metrics=['accuracy'])\n",
    "model.summary()"
   ]
  },
  {
   "cell_type": "markdown",
   "metadata": {},
   "source": [
    "### Train and evaluate the model\n",
    "\n",
    "Here we train the model using `model.fit()` as before.\n",
    "\n",
    "<div class = \"alert alert-block alert-warning\"><b>Warning:</b> **Please do not run this cell on UWE machines/CSCT cloud!**<br>\n",
    "This training process can take a *very* long time! It could take many hours, depending on your hardware, and especially if you do not have a GPU.  <br>Instead please either run this notebook on Google Colab, or skip this cell and load one of the pre-trained models provided (below).\n",
    "</div>"
   ]
  },
  {
   "cell_type": "code",
   "execution_count": 10,
   "metadata": {},
   "outputs": [
    {
     "name": "stdout",
     "output_type": "stream",
     "text": [
      "Epoch 1/20\n",
      "625/625 [==============================] - 147s 194ms/step - loss: 2.7506 - accuracy: 0.6934 - val_loss: 4.7799 - val_accuracy: 0.3688\n",
      "Epoch 2/20\n",
      "625/625 [==============================] - 121s 194ms/step - loss: 1.4888 - accuracy: 0.7713 - val_loss: 2.3138 - val_accuracy: 0.6812\n",
      "Epoch 3/20\n",
      "625/625 [==============================] - 158s 253ms/step - loss: 1.1395 - accuracy: 0.8130 - val_loss: 2.5545 - val_accuracy: 0.6679\n",
      "Epoch 4/20\n",
      "625/625 [==============================] - 137s 219ms/step - loss: 0.9072 - accuracy: 0.8388 - val_loss: 2.2193 - val_accuracy: 0.7120\n",
      "Epoch 5/20\n",
      "625/625 [==============================] - 163s 260ms/step - loss: 0.7337 - accuracy: 0.8590 - val_loss: 2.0808 - val_accuracy: 0.7341\n",
      "Epoch 6/20\n",
      "625/625 [==============================] - 134s 215ms/step - loss: 0.5874 - accuracy: 0.8787 - val_loss: 1.8998 - val_accuracy: 0.7591\n",
      "Epoch 7/20\n",
      "625/625 [==============================] - 137s 219ms/step - loss: 0.4743 - accuracy: 0.8963 - val_loss: 1.7788 - val_accuracy: 0.7770\n",
      "Epoch 8/20\n",
      "625/625 [==============================] - 137s 219ms/step - loss: 0.3894 - accuracy: 0.9102 - val_loss: 1.7657 - val_accuracy: 0.7842\n",
      "Epoch 9/20\n",
      "625/625 [==============================] - 158s 252ms/step - loss: 0.3274 - accuracy: 0.9217 - val_loss: 1.7325 - val_accuracy: 0.7927\n",
      "Epoch 10/20\n",
      "625/625 [==============================] - 154s 246ms/step - loss: 0.2810 - accuracy: 0.9311 - val_loss: 1.6961 - val_accuracy: 0.7995\n",
      "Epoch 11/20\n",
      "625/625 [==============================] - 165s 265ms/step - loss: 0.2455 - accuracy: 0.9379 - val_loss: 1.6845 - val_accuracy: 0.8053\n",
      "Epoch 12/20\n",
      "625/625 [==============================] - 158s 252ms/step - loss: 0.2172 - accuracy: 0.9436 - val_loss: 1.7180 - val_accuracy: 0.8054\n",
      "Epoch 13/20\n",
      "625/625 [==============================] - 145s 231ms/step - loss: 0.1939 - accuracy: 0.9484 - val_loss: 1.7240 - val_accuracy: 0.8072\n"
     ]
    }
   ],
   "source": [
    "model_chkptr = tf.keras.callbacks.ModelCheckpoint(\n",
    "    'seq2seq_translator.h5',\n",
    "    monitor='val_loss',\n",
    "    verbose=0,\n",
    "    save_best_only=True,\n",
    "    save_weights_only=True,\n",
    "    mode='min',\n",
    "    save_freq='epoch')\n",
    "\n",
    "model_earlystp = tf.keras.callbacks.EarlyStopping(\n",
    "    monitor='val_loss',\n",
    "    min_delta=0.01,\n",
    "    patience=2,\n",
    "    verbose=0,\n",
    "    mode='min',\n",
    "    restore_best_weights=True)\n",
    "\n",
    "# Fit the model\n",
    "results = model.fit(train_generator, epochs=20, validation_data=val_generator, callbacks=[model_chkptr, model_earlystp])"
   ]
  },
  {
   "cell_type": "code",
   "execution_count": 11,
   "metadata": {},
   "outputs": [
    {
     "name": "stdout",
     "output_type": "stream",
     "text": [
      "Best training loss: 0.202\n",
      "Best training accuracy: 0.946\n",
      "Best validation loss: 1.685\n",
      "Best validation accuracy: 0.807\n"
     ]
    },
    {
     "data": {
      "image/png": "[encoded data removed]",
      "text/plain": [
       "<Figure size 800x600 with 2 Axes>"
      ]
     },
     "metadata": {},
     "output_type": "display_data"
    }
   ],
   "source": [
    "print('Best training loss: ' + str(round(min(results.history['loss']), 3)))\n",
    "print('Best training accuracy: ' + str(round(max(results.history['accuracy']), 3)))\n",
    "print('Best validation loss: ' + str(round(min(results.history['val_loss']), 3)))\n",
    "print('Best validation accuracy: ' + str(round(max(results.history['val_accuracy']), 3)))\n",
    "\n",
    "# Plot the training loss and accuracy\n",
    "loss_df = pd.DataFrame({'loss': results.history['loss'], 'val loss': results.history['val_loss']})\n",
    "acc_df = pd.DataFrame({'accuracy': results.history['accuracy'], 'val accuracy': results.history['val_accuracy']})\n",
    "\n",
    "fig, ax = plt.subplots(1, 2, figsize=(8, 6), sharex=True)\n",
    "sns.lineplot(loss_df, ax=ax[0])\n",
    "ax[0].set(xlabel='epoch')\n",
    "sns.lineplot(acc_df, ax=ax[1])\n",
    "ax[1].set(xlabel='epoch')\n",
    "plt.show()"
   ]
  },
  {
   "cell_type": "markdown",
   "metadata": {},
   "source": [
    "### Calculate BLEU and METEOR scores\n",
    "\n",
    "**Bilingual Evaluation Understudy (BLEU)**, is a score for comparing a candidate translation of text to one or more reference translations.\n",
    "\n",
    "- BLEU score is more precision based than recalled. In other words, it is based on evaluating whether all words in the generated candidate are in the reference that a manual evaluator comes up with. But it does not check if all words in reference are covered!\n",
    "\n",
    "- BLEU score does not take into account semantic similarity. The BLEU score looks for exact word matches. But it does not consider the fact that a word such as red is close to the word scarlet for instance. For example, “the cat is on the mat” should be semantically similar to “the cat is over the mat”. However, “the cat is under the mat” does not mean hte same thing! BLEU score fails here.\n",
    "\n",
    "- Good matches often have clusters of words in candidate that match closely with clusters of words in the reference. BLEU score is not great with capturing this.\n",
    "\n",
    "**METEOR** evaluates a translation by computing a score based on explicit word-to-word matches between the translation and a given reference translation. If more than one reference translation is available, the translation is scored against each reference independently, and the best scoring pair is used.\n",
    "\n",
    "Once the model is trained we can evaluate it by calculating the BLEU and METEOR scores. First we should load the weights of the best model found during training. Then create a list of reference (ground truth) and candidate (predicted) sequences:\n",
    "\n",
    "1. Loop over each batch in the test data (we will use the validation set)\n",
    "\n",
    "2. Use the model to generate predictions\n",
    "\n",
    "3. Convert the predicted token ids back into words, and similarly for the actual translation\n",
    "\n",
    "4. Calculate BLEU and METEOR for all the candidate and reference pairs"
   ]
  },
  {
   "cell_type": "code",
   "execution_count": 12,
   "metadata": {},
   "outputs": [
    {
     "name": "stdout",
     "output_type": "stream",
     "text": [
      "Model: \"seq2seq_attn\"\n",
      "__________________________________________________________________________________________________\n",
      "Layer (type)                    Output Shape         Param #     Connected to                     \n",
      "==================================================================================================\n",
      "encoder_inputs (InputLayer)     [(None, 20)]         0                                            \n",
      "__________________________________________________________________________________________________\n",
      "decoder_inputs (InputLayer)     [(None, 20)]         0                                            \n",
      "__________________________________________________________________________________________________\n",
      "Translator (Translator)         (None, 20, 16789)    7664770     encoder_inputs[0][0]             \n",
      "                                                                 decoder_inputs[0][0]             \n",
      "==================================================================================================\n",
      "Total params: 7,664,770\n",
      "Trainable params: 7,664,770\n",
      "Non-trainable params: 0\n",
      "__________________________________________________________________________________________________\n",
      "None\n"
     ]
    }
   ],
   "source": [
    "# Load the best model found during training\n",
    "model.load_weights('seq2seq_translator.h5')\n",
    "print(model.summary())"
   ]
  },
  {
   "cell_type": "code",
   "execution_count": 13,
   "metadata": {},
   "outputs": [
    {
     "name": "stdout",
     "output_type": "stream",
     "text": [
      "Cumulative 1-gram: 0.4579, 2-gram: 0.2645, 3-gram: 0.1556, 4-gram: 0.0882\n",
      "Completions METEOR: Mean=0.1265, Max=0.9815, Min=0.0000\n"
     ]
    }
   ],
   "source": [
    "candidates = []\n",
    "references = []\n",
    "special_tokens = ['<s>', '</s>', '<pad>']\n",
    "for i in range(100): # Just make predictions on the first 100 batches\n",
    "    \n",
    "    # Predict on the validation set\n",
    "    predictions = model.predict(val_generator[i][0])\n",
    "\n",
    "    # Convert the predictions to ids\n",
    "    predicted_ids = tf.argmax(predictions, axis=-1).numpy()\n",
    "\n",
    "    # Get the predicted sentence and the reference sentence\n",
    "    for j in range(predicted_ids.shape[0]):\n",
    "\n",
    "        # Convert the ids to words\n",
    "        predicted_sentence = [fr_vocab[i] for i in predicted_ids[j] if fr_vocab[i] not in special_tokens]\n",
    "        candidates.append(predicted_sentence)\n",
    "\n",
    "        reference_sentence = [eng_vocab[i] for i in val_generator[i][0][0][j] if eng_vocab[i] not in special_tokens]\n",
    "        references.append(reference_sentence)\n",
    "\n",
    "# Smoothing function accounts for cases where the candidate sentence is shorter than the reference sentence\n",
    "chencherry = SmoothingFunction().method7\n",
    "\n",
    "# Cumulative - calculation of individual n-gram scores at all orders from 1 to n\n",
    "c_1g = corpus_bleu(references, candidates, weights=(1, 0, 0, 0), smoothing_function=chencherry)\n",
    "c_2g = corpus_bleu(references, candidates, weights=(0.5, 0.5, 0, 0), smoothing_function=chencherry)\n",
    "c_3g = corpus_bleu(references, candidates, weights=(0.33, 0.33, 0.33, 0), smoothing_function=chencherry)\n",
    "c_4g = corpus_bleu(references, candidates, weights=(0.25, 0.25, 0.25, 0.25), smoothing_function=chencherry)\n",
    "print('Cumulative 1-gram: {:.4f}, 2-gram: {:.4f}, 3-gram: {:.4f}, 4-gram: {:.4f}'.format(c_1g, c_2g, c_3g, c_4g))\n",
    "\n",
    "meteor_scores = [round(meteor([references[i]], candidates[i]), 5) for i in range(len(references))]\n",
    "print('Completions METEOR: Mean={:.4f}, Max={:.4f}, Min={:.4f}'.format(np.mean(meteor_scores), np.max(meteor_scores), np.min(meteor_scores)))"
   ]
  },
  {
   "cell_type": "markdown",
   "metadata": {},
   "source": [
    "## 1.4 Translate text\n",
    "\n",
    "Once the model is trained we can now use it to translate some text! First we should load the weights of the best model found during training. Then we can set choose a phrase for translation and (optionally) set the correct translation. Our `translate()` function can take care of the rest!"
   ]
  },
  {
   "cell_type": "code",
   "execution_count": 16,
   "metadata": {},
   "outputs": [
    {
     "name": "stdout",
     "output_type": "stream",
     "text": [
      "Input sentence: I am a student.\n",
      "Translation: Je suis un étudiant.\n",
      "Predicted translation: je suis etudiant .\n"
     ]
    },
    {
     "data": {
      "image/png": "[encoded data removed]",
      "text/plain": [
       "<Figure size 1000x1000 with 1 Axes>"
      ]
     },
     "metadata": {},
     "output_type": "display_data"
    }
   ],
   "source": [
    "# Load the best model found during training\n",
    "model.load_weights('seq2seq_translator.h5')\n",
    "\n",
    "# Test the model on a sentence\n",
    "input_sentence = \"I am a student.\"\n",
    "correct_translation = \"Je suis un étudiant.\"\n",
    "\n",
    "# Translate the sentence\n",
    "predicted_translation, attn_fig = translator.translate(input_sentence)\n",
    "\n",
    "print('Input sentence: ' + input_sentence)\n",
    "print('Translation: ' + correct_translation)\n",
    "print('Predicted translation: ' + predicted_translation)"
   ]
  },
  {
   "cell_type": "markdown",
   "metadata": {},
   "source": [
    "# 2 Translation with Transformers (T5)\n",
    "\n",
    "## 2.0 Import libraries\n",
    "\n",
    "1. [Transformers](https://huggingface.co/docs/transformers/index) - is a Python library created by Hugging Face 🤗. It provides APIs and tools to easily download and train state-of-the-art pretrained models."
   ]
  },
  {
   "cell_type": "code",
   "execution_count": 17,
   "metadata": {},
   "outputs": [
    {
     "name": "stderr",
     "output_type": "stream",
     "text": [
      "c:\\Python\\Virtual Environments\\ML-L&V\\lib\\site-packages\\tqdm\\auto.py:22: TqdmWarning: IProgress not found. Please update jupyter and ipywidgets. See https://ipywidgets.readthedocs.io/en/stable/user_install.html\n",
      "  from .autonotebook import tqdm as notebook_tqdm\n"
     ]
    }
   ],
   "source": [
    "import os\n",
    "import re\n",
    "import numpy as np\n",
    "import pandas as pd\n",
    "import matplotlib.pyplot as plt\n",
    "import matplotlib.ticker as ticker\n",
    "import seaborn as sns\n",
    "import tensorflow as tf\n",
    "from nltk.translate.bleu_score import corpus_bleu, SmoothingFunction\n",
    "from nltk.translate import meteor, meteor_score\n",
    "from transformers import AutoTokenizer, DataCollatorForSeq2Seq, TFAutoModelForSeq2SeqLM, AdamWeightDecay, pipeline\n",
    "from datasets import load_dataset, Dataset\n",
    "%matplotlib inline\n",
    "\n",
    "# Set the directory to the data folder\n",
    "data_dir = os.path.join('..', 'data', 'translate')"
   ]
  },
  {
   "cell_type": "markdown",
   "metadata": {},
   "source": [
    "## 2.1 Load and pre-process data\n",
    "\n",
    "The data directory should contain the English and French text file. We will simply loop over the file and separate the English and French phrases. However, this time we wont preform any further pre-processing yet.\n",
    "\n",
    "<div class = \"alert alert-block alert-info\"><b>Note:</b> This dataset contains ~200K sentence pairs, which would take a very long time to train and evaluate. So, we will limit our data to the first 100k sentences.</div>"
   ]
  },
  {
   "cell_type": "code",
   "execution_count": 18,
   "metadata": {},
   "outputs": [
    {
     "name": "stdout",
     "output_type": "stream",
     "text": [
      "Number of English sentences: 100000\n",
      "Number of French sentences: 100000\n",
      "First 5 sentences: \n",
      "Go. -> Va !\n",
      "Go. -> Marche.\n",
      "Go. -> En route !\n",
      "Go. -> Bouge !\n",
      "Hi. -> Salut !\n"
     ]
    }
   ],
   "source": [
    "# Preprocess the English and French sentences\n",
    "eng_corpus = []\n",
    "fr_corpus = []\n",
    "with open(os.path.join(data_dir, 'eng-fr.txt'), 'r', encoding='utf-8') as file:\n",
    "    text = file.read().splitlines()\n",
    "\n",
    "    for line in text[:100000]:\n",
    "        # Split the line into English and French\n",
    "        line = line.split('\\t')\n",
    "\n",
    "        # Add to corpus\n",
    "        eng_corpus.append(line[0])\n",
    "        fr_corpus.append(line[1])\n",
    "\n",
    "print('Number of English sentences: ' + str(len(eng_corpus)))\n",
    "print('Number of French sentences: ' + str(len(fr_corpus)))\n",
    "print('First 5 sentences: ')\n",
    "for i in range(5):\n",
    "    print(eng_corpus[i] + ' -> ' + fr_corpus[i])"
   ]
  },
  {
   "cell_type": "markdown",
   "metadata": {},
   "source": [
    "## 2.2 Tokenise and Batch the data\n",
    "\n",
    "Next we will create a [Dataset](https://huggingface.co/docs/datasets/v2.8.0/en/package_reference/main_classes#main-classes) using the Hugging Face 🤗 Dataset class. This allows us to create a dataset from the English and French corpora, split the data into training and test sets (like the SKlearn function) and also batch the data.\n",
    "\n",
    "We will also create a [Tokeniser](https://huggingface.co/docs/transformers/v4.26.0/en/main_classes/tokenizer) for the T5 model. The tokeniser...tokenises the input and output sequences. It also pads/truncates the sequences to the `max_seq_len` and creates a vocabulary.\n",
    "\n",
    "Together the `Dataset` and `Tokeniser` automate many of the steps of the data generator and vocabulary creation that we implemented for the Seq2Seq model.\n",
    "\n",
    "<div class = \"alert alert-block alert-info\"><b>Note:</b> Models such as T5 and GPT-3 use prompts to inform the model which task it is to perform. In this case we add the prefix \"translate English to French: \" to the input sequences.</div>"
   ]
  },
  {
   "cell_type": "code",
   "execution_count": 19,
   "metadata": {},
   "outputs": [
    {
     "name": "stderr",
     "output_type": "stream",
     "text": [
      "100%|██████████| 1250/1250 [00:04<00:00, 298.55ba/s]\n",
      "100%|██████████| 313/313 [00:01<00:00, 302.79ba/s]"
     ]
    },
    {
     "name": "stdout",
     "output_type": "stream",
     "text": [
      "Train Dataset: Dataset({\n",
      "    features: ['eng', 'fr', 'input_ids', 'attention_mask', 'labels'],\n",
      "    num_rows: 80000\n",
      "})\n",
      "Test Dataset: Dataset({\n",
      "    features: ['eng', 'fr', 'input_ids', 'attention_mask', 'labels'],\n",
      "    num_rows: 20000\n",
      "})\n",
      "Input Sentence: Try to calm down.\n",
      "Input Vector: [13959, 1566, 12, 2379, 10, 5263, 12, 4447, 323, 5, 1]\n",
      "Attention Mask: [1, 1, 1, 1, 1, 1, 1, 1, 1, 1, 1]\n",
      "Target Sentence: Essayez de vous calmer !\n",
      "Target Vector: [14628, 457, 20, 327, 4447, 49, 3, 55, 1]\n",
      "\n",
      "Input Sentence: You can trust all of us.\n",
      "Input Vector: [13959, 1566, 12, 2379, 10, 148, 54, 2019, 66, 13, 178, 5, 1]\n",
      "Attention Mask: [1, 1, 1, 1, 1, 1, 1, 1, 1, 1, 1, 1, 1]\n",
      "Target Sentence: Vous pouvez tous nous faire confiance.\n",
      "Target Vector: [3, 1930, 3215, 457, 1739, 678, 1143, 15087, 5, 1]\n",
      "\n",
      "Input Sentence: My conscience is clear.\n",
      "Input Vector: [13959, 1566, 12, 2379, 10, 499, 15724, 19, 964, 5, 1]\n",
      "Attention Mask: [1, 1, 1, 1, 1, 1, 1, 1, 1, 1, 1]\n",
      "Target Sentence: J'ai la conscience tranquille.\n",
      "Target Vector: [446, 31, 9, 23, 50, 15724, 14249, 109, 5, 1]\n",
      "\n"
     ]
    },
    {
     "name": "stderr",
     "output_type": "stream",
     "text": [
      "\n"
     ]
    }
   ],
   "source": [
    "# Set the maximum sequence length and batch size\n",
    "max_seq_len = 20\n",
    "batch_size = 64\n",
    "\n",
    "# Create a dataset from the English and French sentences\n",
    "dataset = Dataset.from_dict({'eng': eng_corpus, 'fr': fr_corpus})\n",
    "dataset = dataset.train_test_split(test_size=0.2, shuffle=True, seed=42)\n",
    "\n",
    "# The prefix is added to the English sentences to indicate that they are to be translated to French\n",
    "prefix = \"translate English to French: \"\n",
    "def preprocess_function(examples):\n",
    "    inputs = [prefix + example for example in examples['eng']]\n",
    "    targets = [example for example in examples['fr']]\n",
    "    model_inputs = tokeniser(inputs, text_target=targets, max_length=max_seq_len, truncation=True)\n",
    "    return model_inputs\n",
    "\n",
    "# Create a tokeniser for the English and French sentences using the T5 model\n",
    "tokeniser = AutoTokenizer.from_pretrained(\"t5-small\", model_max_length=max_seq_len)\n",
    "# Apply the preprocessing function to the dataset\n",
    "tokenised_data = dataset.map(preprocess_function, batched=True, batch_size=batch_size)\n",
    "\n",
    "# Print the keys and shapes of the training and test datasets\n",
    "print('Train Dataset: ' + str(tokenised_data['train']))\n",
    "print('Test Dataset: ' + str(tokenised_data['test']))\n",
    "\n",
    "# Print the first examples\n",
    "for i in range(3):\n",
    "    print('Input Sentence: ' + tokenised_data['train'][i]['eng'])\n",
    "    print('Input Vector: ' + str(tokenised_data['train'][i]['input_ids']))\n",
    "    print('Attention Mask: ' + str(tokenised_data['train'][i]['attention_mask']))\n",
    "    print('Target Sentence: ' + tokenised_data['train'][i]['fr'])\n",
    "    print('Target Vector: ' + str(tokenised_data['train'][i]['labels']))\n",
    "    print()"
   ]
  },
  {
   "cell_type": "markdown",
   "metadata": {},
   "source": [
    "Next we create a [DataCollator]() which is a utility for creating the appropriate encoder and decoder inputs for Seq2Seq models, just as we did with the `MTDataGenerator` class. Then we can create a Tensorflow dataset from the training and test split we created previously/"
   ]
  },
  {
   "cell_type": "code",
   "execution_count": 20,
   "metadata": {},
   "outputs": [
    {
     "name": "stderr",
     "output_type": "stream",
     "text": [
      "You're using a T5TokenizerFast tokenizer. Please note that with a fast tokenizer, using the `__call__` method is faster than using a method to encode the text followed by a call to the `pad` method to get a padded encoding.\n"
     ]
    }
   ],
   "source": [
    "# Create a data collator for the tokenised data\n",
    "data_collator = DataCollatorForSeq2Seq(tokenizer=tokeniser, return_tensors=\"tf\")\n",
    "\n",
    "# Create TensorFlow datasets from the tokenised data\n",
    "train_set = tokenised_data['train'].to_tf_dataset(\n",
    "    columns=['input_ids', 'attention_mask'],\n",
    "    label_cols=['labels'],\n",
    "    shuffle=True,\n",
    "    batch_size=batch_size,\n",
    "    collate_fn=data_collator,\n",
    ")\n",
    "\n",
    "test_set = tokenised_data['test'].to_tf_dataset(\n",
    "    columns=['input_ids', 'attention_mask'],\n",
    "    label_cols=['labels'],\n",
    "    shuffle=True,\n",
    "    batch_size=batch_size,\n",
    "    collate_fn=data_collator,\n",
    ")"
   ]
  },
  {
   "cell_type": "markdown",
   "metadata": {},
   "source": [
    "## 2.3 Build the T5 Model\n",
    "\n",
    "With the Hugging Face 🤗 library it is very straightforward to load a pre-trained model, and [there are lots to choose from](https://huggingface.co/models). We just need to provide a compatible model name, in this case 't5-small', which will be downloaded and can then be compiled like a standard Keras model."
   ]
  },
  {
   "cell_type": "code",
   "execution_count": 21,
   "metadata": {},
   "outputs": [
    {
     "name": "stderr",
     "output_type": "stream",
     "text": [
      "All model checkpoint layers were used when initializing TFT5ForConditionalGeneration.\n",
      "\n",
      "All the layers of TFT5ForConditionalGeneration were initialized from the model checkpoint at t5-small.\n",
      "If your task is similar to the task the model of the checkpoint was trained on, you can already use TFT5ForConditionalGeneration for predictions without further training.\n",
      "No loss specified in compile() - the model's internal loss computation will be used as the loss. Don't panic - this is a common way to train TensorFlow models in Transformers! To disable this behaviour please pass a loss argument, or explicitly pass `loss=None` if you do not want your model to compute a loss.\n"
     ]
    },
    {
     "name": "stdout",
     "output_type": "stream",
     "text": [
      "Model: \"tf_t5for_conditional_generation\"\n",
      "_________________________________________________________________\n",
      "Layer (type)                 Output Shape              Param #   \n",
      "=================================================================\n",
      "shared (Embedding)           multiple                  16449536  \n",
      "_________________________________________________________________\n",
      "encoder (TFT5MainLayer)      multiple                  35330816  \n",
      "_________________________________________________________________\n",
      "decoder (TFT5MainLayer)      multiple                  41625344  \n",
      "=================================================================\n",
      "Total params: 60,506,624\n",
      "Trainable params: 60,506,624\n",
      "Non-trainable params: 0\n",
      "_________________________________________________________________\n"
     ]
    }
   ],
   "source": [
    "# Create the AdamWeightDecay optimizer\n",
    "optimiser = AdamWeightDecay(learning_rate=2e-5, weight_decay_rate=0.01)\n",
    "# Lod the T5 model\n",
    "model = TFAutoModelForSeq2SeqLM.from_pretrained(\"t5-small\")\n",
    "model.compile(optimizer=optimiser)\n",
    "model.summary()"
   ]
  },
  {
   "cell_type": "markdown",
   "metadata": {},
   "source": [
    "### Train and evaluate the model\n",
    "\n",
    "Here we train the model using `model.fit()` as before. However, instead of saving the model weights during training, using the `ModelCheckpoint`, we will simply save the fine-tuned model once training is complete. Usually  only a few epochs are necessary when fine-tuning a model.\n",
    "\n",
    "<div class = \"alert alert-block alert-warning\"><b>Warning:</b> **Please do not run this cell on UWE machines/CSCT cloud!**<br>\n",
    "This training process can take a *very* long time! It could take many hours, depending on your hardware, and especially if you do not have a GPU.  <br>Instead please either run this notebook on Google Colab, or skip this cell and load one of the pre-trained models provided (below).\n",
    "</div>"
   ]
  },
  {
   "cell_type": "code",
   "execution_count": 22,
   "metadata": {},
   "outputs": [
    {
     "name": "stdout",
     "output_type": "stream",
     "text": [
      "Epoch 1/5\n",
      "1250/1250 [==============================] - 672s 527ms/step - loss: 1.0075 - val_loss: 0.7267\n",
      "Epoch 2/5\n",
      "1250/1250 [==============================] - 423s 338ms/step - loss: 0.8698 - val_loss: 0.6813\n",
      "Epoch 3/5\n",
      "1250/1250 [==============================] - 493s 395ms/step - loss: 0.8154 - val_loss: 0.6554\n",
      "Epoch 4/5\n",
      "1250/1250 [==============================] - 509s 407ms/step - loss: 0.7837 - val_loss: 0.6342\n",
      "Epoch 5/5\n",
      "1250/1250 [==============================] - 407s 325ms/step - loss: 0.7548 - val_loss: 0.6192\n"
     ]
    },
    {
     "data": {
      "text/plain": [
       "('t5_translator\\\\tokenizer_config.json',\n",
       " 't5_translator\\\\special_tokens_map.json',\n",
       " 't5_translator\\\\tokenizer.json')"
      ]
     },
     "execution_count": 22,
     "metadata": {},
     "output_type": "execute_result"
    }
   ],
   "source": [
    "model_earlystp = tf.keras.callbacks.EarlyStopping(\n",
    "    monitor='loss',\n",
    "    min_delta=0.01,\n",
    "    patience=1,\n",
    "    verbose=0,\n",
    "    mode='min',\n",
    "    restore_best_weights=True)\n",
    "\n",
    "# Fit the model\n",
    "results = model.fit(train_set, epochs=5, validation_data=test_set, callbacks=[model_earlystp])\n",
    "\n",
    "# Save the model\n",
    "model.save_pretrained('t5_translator')\n",
    "tokeniser.save_pretrained('t5_translator')"
   ]
  },
  {
   "cell_type": "code",
   "execution_count": 26,
   "metadata": {},
   "outputs": [
    {
     "name": "stdout",
     "output_type": "stream",
     "text": [
      "Best training loss: 0.75\n",
      "Best validation loss: 0.619\n"
     ]
    },
    {
     "data": {
      "image/png": "[encoded data removed]",
      "text/plain": [
       "<Figure size 640x480 with 1 Axes>"
      ]
     },
     "metadata": {},
     "output_type": "display_data"
    }
   ],
   "source": [
    "print('Best training loss: ' + str(round(min(results.history['loss']), 3)))\n",
    "print('Best validation loss: ' + str(round(min(results.history['val_loss']), 3)))\n",
    "\n",
    "# # Plot the training loss and validation loss\n",
    "loss_df = pd.DataFrame({'loss': results.history['loss'], 'val loss': results.history['val_loss']})\n",
    "plt = sns.lineplot(data=loss_df)"
   ]
  },
  {
   "cell_type": "markdown",
   "metadata": {},
   "source": [
    "### Calculate BLEU and METEOR scores\n",
    "\n",
    "Once the model is trained we can evaluate it by calculating the BLEU and METEOR scores. First we should load the weights of the model as well as the tokeniser. The process is similar to before:\n",
    "\n",
    "1. Loop over each batch in the test set\n",
    "\n",
    "2. Use the model to generate predictions\n",
    "\n",
    "3. Convert the predicted token ids back into words, and similarly for the actual translation. In this case the `.decode()` function returns a complete string, so we need to split them back into tokens and ignore everything after the `</s>` token.\n",
    "\n",
    "4. Calculate BLEU and METEOR for all the candidate and reference pairs"
   ]
  },
  {
   "cell_type": "code",
   "execution_count": 27,
   "metadata": {},
   "outputs": [
    {
     "name": "stderr",
     "output_type": "stream",
     "text": [
      "All model checkpoint layers were used when initializing TFT5ForConditionalGeneration.\n",
      "\n",
      "All the layers of TFT5ForConditionalGeneration were initialized from the model checkpoint at t5_translator.\n",
      "If your task is similar to the task the model of the checkpoint was trained on, you can already use TFT5ForConditionalGeneration for predictions without further training.\n"
     ]
    }
   ],
   "source": [
    "# Load the best model found during training\n",
    "model = TFAutoModelForSeq2SeqLM.from_pretrained('t5_translator')\n",
    "tokeniser = AutoTokenizer.from_pretrained('t5_translator')"
   ]
  },
  {
   "cell_type": "code",
   "execution_count": 28,
   "metadata": {},
   "outputs": [
    {
     "name": "stdout",
     "output_type": "stream",
     "text": [
      "Cumulative 1-gram: 0.4620, 2-gram: 0.2668, 3-gram: 0.1569, 4-gram: 0.0889\n",
      "Completions METEOR: Mean=0.6917, Max=0.9996, Min=0.0000\n"
     ]
    }
   ],
   "source": [
    "candidates = []\n",
    "references = []\n",
    "for i, example in enumerate(test_set):\n",
    "\n",
    "    # Predict on the test set\n",
    "    inp_ids, attn_mask, labels = example[0]['input_ids'], example[0]['attention_mask'], example[1]\n",
    "    outputs = model(input_ids=inp_ids, attention_mask=attn_mask, decoder_input_ids=None, labels=labels)\n",
    "\n",
    "    # Convert the logits to predicted ids\n",
    "    predictions = tf.nn.softmax(outputs['logits'], axis=-1)\n",
    "    predicted_ids = tf.argmax(predictions, axis=-1).numpy()\n",
    "\n",
    "    # Get the predicted sentences and the reference sentence\n",
    "    for j in range(predicted_ids.shape[0]):\n",
    "\n",
    "        # Use the tokeniser to decode the predicted ids\n",
    "        predicted_sentence = tokeniser.decode(predicted_ids[j], skip_special_tokens=False)\n",
    "        predicted_sentence = re.sub(r\"([?.!,¿])\", r\" \\1 \", predicted_sentence)\n",
    "        # Ignore everything after the </s> token\n",
    "        predicted_sentence = predicted_sentence.split('</s>')[0]\n",
    "        predicted_sentence = predicted_sentence.strip().split(' ')\n",
    "        candidates.append(predicted_sentence)\n",
    "\n",
    "        # Use the tokeniser to decode the reference ids from the labels\n",
    "        label_ids = np.delete(labels[j], np.where(labels[j] == -100)) # Remove the padding tokens\n",
    "        reference_sentence = tokeniser.decode(label_ids, skip_special_tokens=True)\n",
    "        reference_sentence = re.sub(r\"([?.!,¿])\", r\" \\1 \", reference_sentence)\n",
    "        reference_sentence = reference_sentence.strip().split(' ')\n",
    "        references.append(reference_sentence)\n",
    "\n",
    "# Smoothing function accounts for cases where the candidate sentence is shorter than the reference sentence\n",
    "chencherry = SmoothingFunction().method7\n",
    "\n",
    "# Cumulative - calculation of individual n-gram scores at all orders from 1 to n\n",
    "c_1g = corpus_bleu(references, candidates, weights=(1, 0, 0, 0), smoothing_function=chencherry)\n",
    "c_2g = corpus_bleu(references, candidates, weights=(0.5, 0.5, 0, 0), smoothing_function=chencherry)\n",
    "c_3g = corpus_bleu(references, candidates, weights=(0.33, 0.33, 0.33, 0), smoothing_function=chencherry)\n",
    "c_4g = corpus_bleu(references, candidates, weights=(0.25, 0.25, 0.25, 0.25), smoothing_function=chencherry)\n",
    "print('Cumulative 1-gram: {:.4f}, 2-gram: {:.4f}, 3-gram: {:.4f}, 4-gram: {:.4f}'.format(c_1g, c_2g, c_3g, c_4g))\n",
    "\n",
    "meteor_scores = [round(meteor([references[i]], candidates[i]), 5) for i in range(len(references))]\n",
    "print('Completions METEOR: Mean={:.4f}, Max={:.4f}, Min={:.4f}'.format(np.mean(meteor_scores), np.max(meteor_scores), np.min(meteor_scores)))"
   ]
  },
  {
   "cell_type": "markdown",
   "metadata": {},
   "source": [
    "## 2.4 Translate text\n",
    "\n",
    "Once the model is trained we can now use it to translate some text! First we should load the weights of the model as well as the tokeniser. Then we can set choose a phrase for translation and (optionally) set the correct translation. Then we can use a [Pipeline](https://huggingface.co/docs/transformers/v4.26.0/en/main_classes/pipelines#transformers.pipeline) to create a full end-to-end translation function with our model and tokeniser."
   ]
  },
  {
   "cell_type": "code",
   "execution_count": 29,
   "metadata": {},
   "outputs": [
    {
     "name": "stderr",
     "output_type": "stream",
     "text": [
      "All model checkpoint layers were used when initializing TFT5ForConditionalGeneration.\n",
      "\n",
      "All the layers of TFT5ForConditionalGeneration were initialized from the model checkpoint at t5_translator.\n",
      "If your task is similar to the task the model of the checkpoint was trained on, you can already use TFT5ForConditionalGeneration for predictions without further training.\n",
      "c:\\Python\\Virtual Environments\\ML-L&V\\lib\\site-packages\\transformers\\generation\\tf_utils.py:603: UserWarning: You have modified the pretrained model configuration to control generation. This is a deprecated strategy to control generation and will be removed soon, in a future version. Please use a generation configuration file (see https://huggingface.co/docs/transformers/main_classes/text_generation)\n",
      "  warnings.warn(\n"
     ]
    },
    {
     "name": "stdout",
     "output_type": "stream",
     "text": [
      "Input sentence: I am a student.\n",
      "Translation: Je suis un étudiant.\n",
      "Predicted translation: Je suis étudiant.\n"
     ]
    }
   ],
   "source": [
    "# Load the best model found during training\n",
    "model = TFAutoModelForSeq2SeqLM.from_pretrained('t5_translator')\n",
    "tokeniser = AutoTokenizer.from_pretrained('t5_translator')\n",
    "\n",
    "# Test the model on a sentence\n",
    "input_sentence = \"I am a student.\"\n",
    "correct_translation = \"Je suis un étudiant.\"\n",
    "\n",
    "# Create a pipeline to translate the input sentence\n",
    "translator = pipeline(\"translation_en_to_fr\", model=model, tokenizer=tokeniser)\n",
    "predicted_translation = translator(input_sentence)\n",
    "\n",
    "print('Input sentence: ' + input_sentence)\n",
    "print('Translation: ' + correct_translation)\n",
    "print('Predicted translation: ' + predicted_translation[0]['translation_text'])"
   ]
  }
 ],
 "metadata": {
  "kernelspec": {
   "display_name": "MLenv",
   "language": "python",
   "name": "mlenv"
  },
  "language_info": {
   "codemirror_mode": {
    "name": "ipython",
    "version": 3
   },
   "file_extension": ".py",
   "mimetype": "text/x-python",
   "name": "python",
   "nbconvert_exporter": "python",
   "pygments_lexer": "ipython3",
   "version": "3.10.0"
  },
  "vscode": {
   "interpreter": {
    "hash": "eda59365f9d652723e3bcf67739b9100ac1f6ab6ddfa121c8653940903b971a2"
   }
  }
 },
 "nbformat": 4,
 "nbformat_minor": 4
}
